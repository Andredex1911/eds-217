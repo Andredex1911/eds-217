{
 "cells": [
  {
   "cell_type": "raw",
   "id": "bc885672",
   "metadata": {},
   "source": [
    "---\n",
    "title: TryPy 1 - Exploring St. Louis Blood Toxicity Data\n",
    "format:\n",
    "    html:\n",
    "        code-fold: true\n",
    "        toc: true\n",
    "        toc-location: left\n",
    "        css: styles/activities.css\n",
    "---"
   ]
  },
  {
   "cell_type": "markdown",
   "id": "05a8bb88",
   "metadata": {},
   "source": [
    "## St. Louis Blood Data\n",
    "\n",
    "\n",
    "\n",
    "### Get the data\n",
    " \n",
    "\n",
    "\n",
    "```python\n",
    "\n",
    "\"\"\"\n",
    "Create a new variable containing \n",
    "the link to the .csv file on \n",
    "the EDS_221 github repository.\n",
    "\"\"\"\n",
    "url = 'https://raw.githubusercontent.com/'\\\n",
    "      'allisonhorst/EDS_221_programming-essentials/'\\\n",
    "      'main/activities/stl_blood_lead.csv'\n",
    "\n",
    "\"\"\" \n",
    "pandas can read a csv file into a \n",
    "dataframe directly from a url:\n",
    "\"\"\"\n",
    "stl_lead = pd.read_csv(url)\n",
    "\n",
    "```\n",
    "\n",
    "Read more about the data [here](https://github.com/slu-soc1120/STL_HEALTH_Lead).\n",
    "\n",
    "### Explore the data\n",
    "\n",
    "Create a new notebook, or  this notebook: \n",
    "\n",
    "- Create a code cell that imports the `numpy` and `pandas` packages and run the cell to import the packages.\n",
    "- Use the code above to read the url for `stl_blood_lead.csv` into a pandas DataFrame called `stl_lead`\n",
    "- Do some basic exploration of the dataset using the DataFrame `info` and `describe` commands.\n",
    "- In a new code chunk, from `stl_lead` create a new column called `prop_white` that contains the percent of each census tract identifying as white (variable `white` in the dataset divided by variable `totalPop`, times 100). \n",
    "\n",
    "Hint: `df['new_col'] = df['col_a'] / df['col_b']` will create a new column `new_col` that contains the value of `col_a / col_b`\n",
    "\n"
   ]
  },
  {
   "cell_type": "code",
   "execution_count": null,
   "id": "c2e86bd8",
   "metadata": {},
   "outputs": [],
   "source": [
    "#| echo: false\n",
    "#| eval: false\n",
    "import pandas as pd\n",
    "url = 'https://raw.githubusercontent.com/allisonhorst/'\\\n",
    "      'EDS_221_programming-essentials/main/activities/' \\\n",
    "      'stl_blood_lead.csv'\n",
    "\n",
    "stl_lead = pd.read_csv(url)\n",
    "\n",
    "stl_lead['prop_white'] = stl_lead['white'] / stl_lead['totalPop']"
   ]
  },
  {
   "cell_type": "markdown",
   "id": "bb063b5a",
   "metadata": {},
   "source": [
    "### Create a scatterplot\n",
    "\n",
    "- Import matplotlib (`import matplotlib.pyplot as plt`)\n",
    "- Create a scatterplot graph of the percentage of children in each census tract with elevated blood lead levels (`pctElevated`) versus the percent of each census tract identifying as white. "
   ]
  },
  {
   "cell_type": "code",
   "execution_count": null,
   "id": "bd731cb4",
   "metadata": {},
   "outputs": [],
   "source": [
    "#| echo: false\n",
    "#| eval: false\n",
    "\n",
    "import matplotlib.pyplot as plt\n",
    "\n",
    "plt.plot(stl_lead['prop_white'], stl_lead['pctElevated'],'.')"
   ]
  },
  {
   "cell_type": "markdown",
   "id": "dcf11dd7",
   "metadata": {},
   "source": [
    "### Create a histogram\n",
    "\n",
    "- Create a histogram of only the `pctElevated` column in the data frame \n",
    "- Customize the fill, color, and size aesthetics - test some stuff! Feel free to make it awful. "
   ]
  },
  {
   "cell_type": "code",
   "execution_count": null,
   "id": "085d192b",
   "metadata": {},
   "outputs": [],
   "source": [
    "a = stl_lead['pctElevated'].hist(\n",
    "    color='green',\n",
    "    )"
   ]
  }
 ],
 "metadata": {
  "kernelspec": {
   "display_name": "eds-217",
   "language": "python",
   "name": "eds-217"
  },
  "language_info": {
   "codemirror_mode": {
    "name": "ipython",
    "version": 3
   },
   "file_extension": ".py",
   "mimetype": "text/x-python",
   "name": "python",
   "nbconvert_exporter": "python",
   "pygments_lexer": "ipython3",
   "version": "3.10.5"
  },
  "nteract": {
   "version": "0.28.0"
  }
 },
 "nbformat": 4,
 "nbformat_minor": 5
}
