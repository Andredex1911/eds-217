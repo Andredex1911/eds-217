{
 "cells": [
  {
   "cell_type": "markdown",
   "metadata": {
    "slideshow": {
     "slide_type": "slide"
    }
   },
   "source": [
    "# G136: Week 2 Slides"
   ]
  },
  {
   "cell_type": "markdown",
   "metadata": {
    "slideshow": {
     "slide_type": "slide"
    }
   },
   "source": [
    "## Today's Agenda\n",
    "\n",
    "1. Logistics\n",
    "    - Any Jupyter Issues?\n",
    "    - Any Github Issues?\n",
    "1. Questions about the exercises?\n",
    "1. When Things Go Wrong: A brief intro to Python Errors\n",
    "1. How to get help inside Python:\n",
    "    - `type()` & `dir()`\n",
    "1. How to get help outside of Python:\n",
    "    - Python Docs\n",
    "    - Stack Overflow"
   ]
  },
  {
   "cell_type": "markdown",
   "metadata": {
    "slideshow": {
     "slide_type": "slide"
    }
   },
   "source": [
    "## Logistics\n",
    "\n",
    "Jupyter Notebooks have two main types of cells: **Markdown** cells and **Code** cells."
   ]
  },
  {
   "cell_type": "markdown",
   "metadata": {
    "slideshow": {
     "slide_type": "subslide"
    }
   },
   "source": [
    "Markdown cells look like this before they are \"run.\""
   ]
  },
  {
   "cell_type": "markdown",
   "metadata": {
    "slideshow": {
     "slide_type": "subslide"
    }
   },
   "source": [
    "### You may also see Markdown cells with html lingo like this.\n",
    "\n",
    "\n",
    "The `divmod()` function returns the quotient and remainder of two input operands in a tuple. (Tuples are another data type that we will cover later.)\n",
    "\n",
    "```python\n",
    "divmod(64, 4.2)\n",
    ">>> (15.0, 0.9999999999999973)\n",
    "```\n",
    "\n",
    "<p style=\"height: 6pt\" > </p>\n",
    "\n",
    "The `pow()` function is an alternative to the `**` operator for raising a number to an exponent, i.e. $x^y$. An optional third argument is used to return the modulus (`%`) of the power of a number, i.e. $x^y$ % $z$.\n",
    "\n",
    "```python\n",
    "pow(8,2)\n",
    ">>> 64\n",
    "\n",
    "pow(8,2,3)\n",
    ">>> 1\n",
    "```\n",
    "\n",
    "<p style=\"height: 6pt\" > </p>\n",
    "\n",
    "<div class=\"practice\">\n",
    "   📚 Practice 1.\n",
    "    The laws of conservation state that in a closed system, mass, energy, and momentum can be neither created nor destroyed. Thus, the energy coming into the Earth's surface (via solar radiation) must be equal to the energy going out from the Earth's surface. The energy coming in via solar radiation can be written:\n",
    "    $$R_{\\text{in}} = G_s \\pi {r_{e}}^2 (1 - \\alpha)$$\n",
    "<p style=\"font-weight:bold\"> Given $\\sigma$ = 5.67 $\\times$ 10<sup>-8</sup> W m<sup>-2</sup> K<sup>-4</sup>, the radius of the sun is 6.957 $\\times$ 10<sup>5</sup> km, the temperature of the sun is 5778 K, the average distance between the sun and the Earth is 1.5 $\\times$ 10<sup>8</sup> km, and the emissivity of the Earth is 1.0,</p>\n",
    "<ol class=\"alpha\">\n",
    "    <li> Calculate the Solar Constant in W m<sup>-2</sup>. Print your answer rounded to 3 decimal places. </li>\n",
    "    <li> Calculate the temperature of the Earth's surface in °C. Print you answer as both a float and an integer. </li> \n",
    "    <li>The actual global surface temperature of the Earth is about 14.6°C. What accounts for the difference between the answer you calculated above in the actual surface temperature? </li>\n",
    "</ol>\n",
    "<p style=\"font-weight:bold; margin-top:0pt\">Show your work by including comments in your code and assigning variables.</p>\n",
    "</div>"
   ]
  },
  {
   "cell_type": "code",
   "execution_count": 1,
   "metadata": {
    "slideshow": {
     "slide_type": "subslide"
    }
   },
   "outputs": [
    {
     "name": "stdout",
     "output_type": "stream",
     "text": [
      "This is a code cell.\n"
     ]
    }
   ],
   "source": [
    "# Code cells look like this\n",
    "print('This is a code cell.')"
   ]
  },
  {
   "cell_type": "markdown",
   "metadata": {
    "slideshow": {
     "slide_type": "slide"
    }
   },
   "source": [
    "For now, the assignments are designed to introduce you to Python basics, so you don't need to worry about the Markdown cells. However, since you will be creating your own notebooks for your final projects, it's not a bad idea to look at the Markdown code to get a sense of how to use Markdown."
   ]
  },
  {
   "cell_type": "markdown",
   "metadata": {
    "slideshow": {
     "slide_type": "slide"
    }
   },
   "source": [
    "### JupyterHub quirks"
   ]
  },
  {
   "cell_type": "markdown",
   "metadata": {},
   "source": [
    "## GitHub + Terminal Issues"
   ]
  },
  {
   "cell_type": "markdown",
   "metadata": {
    "slideshow": {
     "slide_type": "subslide"
    }
   },
   "source": [
    "Directory structure\n",
    "\n",
    "![directory_error](assets/wk2_directoryerror.jpg)"
   ]
  },
  {
   "cell_type": "markdown",
   "metadata": {
    "slideshow": {
     "slide_type": "subslide"
    }
   },
   "source": [
    "Commits – `git config`\n",
    "\n",
    "![commiterror](assets/wk2_commiterror.jpg)\n"
   ]
  },
  {
   "cell_type": "markdown",
   "metadata": {
    "slideshow": {
     "slide_type": "subslide"
    }
   },
   "source": [
    "Passwords in the Terminal\n",
    "\n",
    "![passwords](assets/wk2_passwords.jpg)"
   ]
  },
  {
   "cell_type": "markdown",
   "metadata": {
    "slideshow": {
     "slide_type": "slide"
    }
   },
   "source": [
    "## Questions about Week 1 Exercises"
   ]
  },
  {
   "cell_type": "markdown",
   "metadata": {
    "slideshow": {
     "slide_type": "slide"
    }
   },
   "source": [
    "## Python Errors\n",
    "\n",
    "There are two types of errors in Python: `SyntaxErrors` and `Exceptions`.\n"
   ]
  },
  {
   "cell_type": "markdown",
   "metadata": {
    "slideshow": {
     "slide_type": "slide"
    }
   },
   "source": [
    "### SyntaxErrors\n",
    "\n",
    "A `SyntaxError` happens when the Python language interpreter (the parser) detects an incorrectly formatted statement.\n"
   ]
  },
  {
   "cell_type": "markdown",
   "metadata": {
    "slideshow": {
     "slide_type": "slide"
    }
   },
   "source": [
    "This code is trying to divide zero by 1. What happens when we run it?\n",
    "\n",
    "```python\n",
    ">>> print( 0 / 1 ))\n",
    "```"
   ]
  },
  {
   "cell_type": "code",
   "execution_count": null,
   "metadata": {
    "slideshow": {
     "slide_type": "fragment"
    }
   },
   "outputs": [],
   "source": [
    "print( 0 / 1 ))"
   ]
  },
  {
   "cell_type": "markdown",
   "metadata": {
    "slideshow": {
     "slide_type": "fragment"
    }
   },
   "source": [
    "When python says `SyntaxError`, you should read this as `I don't know what you want me to do!?`"
   ]
  },
  {
   "cell_type": "markdown",
   "metadata": {
    "slideshow": {
     "slide_type": "skip"
    }
   },
   "source": [
    "Often the error includes some indication of where the problem is, although this indication can sometimes be misleading if the detection occurs far away from the syntax problem that created the error."
   ]
  },
  {
   "cell_type": "markdown",
   "metadata": {
    "slideshow": {
     "slide_type": "slide"
    }
   },
   "source": [
    "### Exceptions\n",
    "\n",
    "An `Exception` happens the code you have written violates the Python language specification."
   ]
  },
  {
   "cell_type": "markdown",
   "metadata": {
    "slideshow": {
     "slide_type": "slide"
    }
   },
   "source": [
    "This code is trying to divide zero by 0. Its _syntax_ is correct. But what happens when we run it?\n",
    "\n",
    "```python\n",
    ">>> print( 0 / 0 )\n",
    "```"
   ]
  },
  {
   "cell_type": "code",
   "execution_count": null,
   "metadata": {
    "slideshow": {
     "slide_type": "fragment"
    }
   },
   "outputs": [],
   "source": [
    "print( 0 / 0 )"
   ]
  },
  {
   "cell_type": "markdown",
   "metadata": {
    "slideshow": {
     "slide_type": "fragment"
    }
   },
   "source": [
    "When python says anything other than `SyntaxError`, you should read this as `You are asking to do something I can't do`"
   ]
  },
  {
   "cell_type": "markdown",
   "metadata": {
    "slideshow": {
     "slide_type": "fragment"
    }
   },
   "source": [
    "In this case, the `ZeroDivisionError` is raised because the Python language specification does not allow for division by zero."
   ]
  },
  {
   "cell_type": "markdown",
   "metadata": {
    "slideshow": {
     "slide_type": "slide"
    }
   },
   "source": [
    "### Types of Exceptions\n",
    "\n",
    "Python has a lot of builtin Errors that correspond to the definition of the Python language. \n"
   ]
  },
  {
   "cell_type": "markdown",
   "metadata": {
    "slideshow": {
     "slide_type": "fragment"
    }
   },
   "source": [
    "A few common Exceptions you will see include `TypeError`, `IndexError`, and `KeyError`."
   ]
  },
  {
   "cell_type": "markdown",
   "metadata": {
    "slideshow": {
     "slide_type": "subslide"
    }
   },
   "source": [
    "### `TypeError`\n",
    "\n",
    "\n",
    "A `TypeError` is raised when you try to perform a valid method on an inappropriate data type. "
   ]
  },
  {
   "cell_type": "code",
   "execution_count": null,
   "metadata": {
    "slideshow": {
     "slide_type": "fragment"
    }
   },
   "outputs": [],
   "source": [
    "# TypeError Examples:\n",
    "'a' + 3"
   ]
  },
  {
   "cell_type": "markdown",
   "metadata": {
    "slideshow": {
     "slide_type": "subslide"
    }
   },
   "source": [
    "### `IndexError`\n",
    "\n",
    "\n",
    "An `IndexError` is raised when you try to access an undefined element of a sequence. Sequences are structured data types whose elements are stored in a specific order. A **list** is an example of a sequence."
   ]
  },
  {
   "cell_type": "code",
   "execution_count": null,
   "metadata": {
    "slideshow": {
     "slide_type": "fragment"
    }
   },
   "outputs": [],
   "source": [
    "# IndexError Example:\n",
    "my_list = ['a', 'b', 'c', 'd']\n",
    "my_list[4]"
   ]
  },
  {
   "cell_type": "markdown",
   "metadata": {
    "slideshow": {
     "slide_type": "subslide"
    }
   },
   "source": [
    "### `KeyError`\n",
    "\n",
    "A `KeyError` is raised when you try to perform a valid method on an inappropriate data type. "
   ]
  },
  {
   "cell_type": "code",
   "execution_count": null,
   "metadata": {
    "slideshow": {
     "slide_type": "fragment"
    }
   },
   "outputs": [],
   "source": [
    "# KeyError Examples:\n",
    "\n",
    "my_dict = {'one': 1, 'two': 2}\n",
    "my_dict['three']"
   ]
  },
  {
   "cell_type": "code",
   "execution_count": null,
   "metadata": {
    "slideshow": {
     "slide_type": "slide"
    }
   },
   "outputs": [],
   "source": [
    "## The End"
   ]
  }
 ],
 "metadata": {
  "celltoolbar": "Slideshow",
  "kernelspec": {
   "display_name": "Python 3",
   "language": "python",
   "name": "python3"
  },
  "language_info": {
   "codemirror_mode": {
    "name": "ipython",
    "version": 3
   },
   "file_extension": ".py",
   "mimetype": "text/x-python",
   "name": "python",
   "nbconvert_exporter": "python",
   "pygments_lexer": "ipython3",
   "version": "3.7.4"
  }
 },
 "nbformat": 4,
 "nbformat_minor": 4
}
