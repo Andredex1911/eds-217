{
 "cells": [
  {
   "cell_type": "markdown",
   "metadata": {
    "slideshow": {
     "slide_type": "slide"
    }
   },
   "source": [
    "# G136: Week 3 Slides"
   ]
  },
  {
   "cell_type": "markdown",
   "metadata": {
    "slideshow": {
     "slide_type": "slide"
    }
   },
   "source": [
    "# Today's Agenda\n",
    "\n",
    "1. Exercise 1.3 & 1.4\n",
    "    - Review & Discussion\n",
    "1. DRY programming concepts\n",
    "    - DRY vs. WET\n",
    "    - Abstraction\n",
    "    - Normalization\n",
    "1. Python Library Show-and-Tell (due Weeks 6 & 7)\n",
    "    - Types of Libraries\n",
    "    - Where to look for Ideas"
   ]
  },
  {
   "cell_type": "markdown",
   "metadata": {
    "slideshow": {
     "slide_type": "slide"
    }
   },
   "source": [
    "# Exercise 1.3 & 1.4\n",
    "\n",
    "\n",
    "Review & Discussion\n",
    "\n",
    "Ok to collaborate, but do your own work."
   ]
  },
  {
   "cell_type": "markdown",
   "metadata": {
    "slideshow": {
     "slide_type": "slide"
    }
   },
   "source": [
    "# DRY Programming\n",
    "\n"
   ]
  },
  {
   "cell_type": "markdown",
   "metadata": {
    "slideshow": {
     "slide_type": "fragment"
    }
   },
   "source": [
    "\n",
    "The idea of DRY is to **reduce the repetition of code**. \n"
   ]
  },
  {
   "cell_type": "markdown",
   "metadata": {
    "slideshow": {
     "slide_type": "subslide"
    }
   },
   "source": [
    "\n",
    "## DRY vs. WET\n"
   ]
  },
  {
   "cell_type": "markdown",
   "metadata": {
    "slideshow": {
     "slide_type": "fragment"
    }
   },
   "source": [
    "\n",
    "If DRY means \"Don't Repeat Yourself\"... then WET means \"Write Every Time\", or \"We Enjoy Typing\"\n",
    "\n",
    "\n",
    "Don't write WET code!\n",
    "\n"
   ]
  },
  {
   "cell_type": "markdown",
   "metadata": {
    "slideshow": {
     "slide_type": "subslide"
    }
   },
   "source": [
    "### How to DRY out your code\n",
    "\n",
    "We write DRY code - or we DRY out WET code - through a combination of _abstraction_ and _normalization_.\n",
    "\n"
   ]
  },
  {
   "cell_type": "markdown",
   "metadata": {
    "slideshow": {
     "slide_type": "slide"
    }
   },
   "source": [
    "## Abstraction\n",
    "\n",
    "The \"principle of abstraction\" aims to _reduce duplication of information_ (usually code) in a program whenever it is practical to do so:\n",
    "\n",
    "\"Each significant piece of functionality in a program should be implemented in just one place in the source code. Where similar functions are carried out by distinct pieces of code, it is generally beneficial to combine them into one by abstracting out the varying parts.\"\n",
    "\n",
    "[Types and Programming Languages](https://en.wikipedia.org/wiki/Types_and_Programming_Languages)\n",
    "\n"
   ]
  },
  {
   "cell_type": "markdown",
   "metadata": {
    "slideshow": {
     "slide_type": "subslide"
    }
   },
   "source": [
    "### Abstraction Example\n",
    "\n",
    "The easiest way to understand abstraction is to see it in action. Here's an example that you are already familiar with; determining the energy emitted by an object as a function of its temperature:\n",
    "\n",
    "$Q = \\epsilon  \\sigma  T^4$\n",
    "\n",
    "where $\\epsilon$ is an object's emmissivity, $\\sigma$ is the Stefan-Boltzmann constant, and $T$ is temperature in degrees Kelvin. "
   ]
  },
  {
   "cell_type": "markdown",
   "metadata": {
    "slideshow": {
     "slide_type": "subslide"
    }
   },
   "source": [
    "### Abstraction Example\n",
    "\n",
    "\n",
    "We might write the following code to determine $Q$:"
   ]
  },
  {
   "cell_type": "code",
   "execution_count": 20,
   "metadata": {
    "slideshow": {
     "slide_type": "fragment"
    }
   },
   "outputs": [
    {
     "name": "stdout",
     "output_type": "stream",
     "text": [
      "545.2462948159648\n"
     ]
    }
   ],
   "source": [
    "# How much energy is emitted by an object at a certain temperature?\n",
    "epsilon = 1      # emissivity [-]\n",
    "sigma = 5.67e-8  # stefan-boltzmann constant [W/T^4]\n",
    "T_C = 40         # temperature [deg-C]\n",
    "\n",
    "Q = epsilon * sigma * (T_C+273.15)**4\n",
    "print(Q)"
   ]
  },
  {
   "cell_type": "markdown",
   "metadata": {
    "slideshow": {
     "slide_type": "subslide"
    }
   },
   "source": [
    "### Abstraction Example\n",
    "\n",
    "But this code is going to get very WET very fast."
   ]
  },
  {
   "cell_type": "code",
   "execution_count": 21,
   "metadata": {
    "slideshow": {
     "slide_type": "fragment"
    }
   },
   "outputs": [],
   "source": [
    "# How much energy is emitted by an object at a certain temperature?\n",
    "epsilon = 1      # emissivity [-]\n",
    "sigma = 5.67e-8  # stefan-boltzmann constant [W/m^2/K^4]\n",
    "T_C = 40         # temperature [deg-C]\n",
    "\n",
    "Q = epsilon * sigma * (T_C+273.15)**4\n",
    "\n",
    "# New T value? Different epsilon? What about a bunch of T values?\n",
    "T_2 = 30\n",
    "Q2 = epsilon * sigma * (T_2+273.15)**4\n",
    "\n"
   ]
  },
  {
   "cell_type": "markdown",
   "metadata": {
    "slideshow": {
     "slide_type": "subslide"
    }
   },
   "source": [
    "### Abstraction Example\n",
    "\n",
    "\n",
    "Here's a DRY version obtained using abstraction:"
   ]
  },
  {
   "cell_type": "code",
   "execution_count": 30,
   "metadata": {
    "slideshow": {
     "slide_type": "fragment"
    }
   },
   "outputs": [
    {
     "name": "stdout",
     "output_type": "stream",
     "text": [
      "478.8652793371904\n",
      "485.21513837147734\n",
      "491.6279394333533\n",
      "498.10409709053823\n",
      "504.64402727155215\n",
      "511.2481472657151\n",
      "517.9168757231471\n",
      "524.6506326547681\n",
      "531.449839432298\n",
      "538.3149187882569\n"
     ]
    }
   ],
   "source": [
    "from energy import Q\n",
    "\n",
    "E = Q(40+273.15, unit='K')\n",
    "Q_vals = [print(Q(T)) for T in range(30,40)]\n"
   ]
  },
  {
   "cell_type": "markdown",
   "metadata": {
    "slideshow": {
     "slide_type": "subslide"
    }
   },
   "source": [
    "### Abstraction Summary, Part 1\n",
    "\n",
    "- We keep our code DRY by using _abstraction_. In addition to functions, python also provides `Classes` as another important way to create abstractions. \n",
    "\n",
    "- **Functions** and **Classes** are the subject of this week's exercise (to be posted by the end of the day tomorrow).\n",
    "\n"
   ]
  },
  {
   "cell_type": "markdown",
   "metadata": {
    "slideshow": {
     "slide_type": "subslide"
    }
   },
   "source": [
    "### Abstraction Summary, Part 2\n",
    "\n",
    "- In general, the process of keeping code DRY through successive layers of abstraction is known as **re-factoring**. \n",
    "\n",
    "- The _\"Rule of Three\"_ states that you should probably consider refactoring (i.e. adding abstraction) whenever you find your code doing the same thing three times or more.\n",
    "\n"
   ]
  },
  {
   "cell_type": "markdown",
   "metadata": {
    "slideshow": {
     "slide_type": "slide"
    }
   },
   "source": [
    "## Normalization\n",
    "\n",
    "\n",
    "Normalization is the process of structuring data in order to reduce redundancy and improve integrity. \n",
    "\n"
   ]
  },
  {
   "cell_type": "markdown",
   "metadata": {
    "slideshow": {
     "slide_type": "subslide"
    }
   },
   "source": [
    "## Normalization\n",
    "\n",
    "\n",
    "Some of the key principles of Normalization include:\n",
    "\n",
    "- All data have a `Primary Key`, which uniquely identifies a record. Usually, in python, this key is called an `Index`.\n",
    "- `Atomic` columns, meaning entries contain a single value. This means no _collections_ should appear as elements within a data table. \n",
    "- No _transitive_ dependencies. This means that there should not be implicit associations between columns within data tables. \n",
    "\n"
   ]
  },
  {
   "cell_type": "markdown",
   "metadata": {
    "slideshow": {
     "slide_type": "subslide"
    }
   },
   "source": [
    "### Primary Keys\n",
    "\n",
    "This form of normalization is easy to obtain, as the idea of an `Index` is embedded in almost any Python data structure, and a core component of data structures witin `pandas`, which is the most popular data science library in python (coming next week!).\n"
   ]
  },
  {
   "cell_type": "markdown",
   "metadata": {
    "slideshow": {
     "slide_type": "subslide"
    }
   },
   "source": [
    "### Primary Keys\n"
   ]
  },
  {
   "cell_type": "code",
   "execution_count": 37,
   "metadata": {
    "slideshow": {
     "slide_type": "fragment"
    }
   },
   "outputs": [
    {
     "data": {
      "text/html": [
       "<div>\n",
       "<style scoped>\n",
       "    .dataframe tbody tr th:only-of-type {\n",
       "        vertical-align: middle;\n",
       "    }\n",
       "\n",
       "    .dataframe tbody tr th {\n",
       "        vertical-align: top;\n",
       "    }\n",
       "\n",
       "    .dataframe thead th {\n",
       "        text-align: right;\n",
       "    }\n",
       "</style>\n",
       "<table border=\"1\" class=\"dataframe\">\n",
       "  <thead>\n",
       "    <tr style=\"text-align: right;\">\n",
       "      <th></th>\n",
       "      <th>Average_High_Temperature</th>\n",
       "    </tr>\n",
       "  </thead>\n",
       "  <tbody>\n",
       "    <tr>\n",
       "      <th>0</th>\n",
       "      <td>18.3</td>\n",
       "    </tr>\n",
       "    <tr>\n",
       "      <th>1</th>\n",
       "      <td>18.3</td>\n",
       "    </tr>\n",
       "    <tr>\n",
       "      <th>2</th>\n",
       "      <td>18.9</td>\n",
       "    </tr>\n",
       "    <tr>\n",
       "      <th>3</th>\n",
       "      <td>20.6</td>\n",
       "    </tr>\n",
       "    <tr>\n",
       "      <th>4</th>\n",
       "      <td>21.1</td>\n",
       "    </tr>\n",
       "  </tbody>\n",
       "</table>\n",
       "</div>"
      ],
      "text/plain": [
       "   Average_High_Temperature\n",
       "0                      18.3\n",
       "1                      18.3\n",
       "2                      18.9\n",
       "3                      20.6\n",
       "4                      21.1"
      ]
     },
     "execution_count": 37,
     "metadata": {},
     "output_type": "execute_result"
    }
   ],
   "source": [
    "# All DataFrames in pandas are created with an index (i.e unique primary key)\n",
    "import pandas as pd\n",
    "average_high_temps = [18.3, 18.3, 18.9, 20.6, 21.1, 21.7,\n",
    "                      23.9, 24.4, 23.9, 22.8, 20.6, 18.3]\n",
    "sb_high_temp = pd.DataFrame(\n",
    "    average_high_temps, # This list will become a single column of values\n",
    "    columns=['Average_High_Temperature'] # This is the name of the column\n",
    ") # NOTE: use sb_high_temp.head() py->month_list\n",
    "#sb_high_temp.index = ['January', 'February', 'March', 'April', 'May', 'June', 'July', 'August', 'September', 'October', 'November', 'December']\n",
    "sb_high_temp.head()"
   ]
  },
  {
   "cell_type": "markdown",
   "metadata": {
    "slideshow": {
     "slide_type": "subslide"
    }
   },
   "source": [
    "### Atomic Columns\n",
    "\n",
    "The idea of atomic columns is that each element in a data structure should contain a unique value. This requirement is harder to obtain and you will sometimes violate it.\n"
   ]
  },
  {
   "cell_type": "code",
   "execution_count": 39,
   "metadata": {
    "slideshow": {
     "slide_type": "fragment"
    }
   },
   "outputs": [
    {
     "data": {
      "text/html": [
       "<div>\n",
       "<style scoped>\n",
       "    .dataframe tbody tr th:only-of-type {\n",
       "        vertical-align: middle;\n",
       "    }\n",
       "\n",
       "    .dataframe tbody tr th {\n",
       "        vertical-align: top;\n",
       "    }\n",
       "\n",
       "    .dataframe thead th {\n",
       "        text-align: right;\n",
       "    }\n",
       "</style>\n",
       "<table border=\"1\" class=\"dataframe\">\n",
       "  <thead>\n",
       "    <tr style=\"text-align: right;\">\n",
       "      <th></th>\n",
       "      <th>Monthly Average Temp</th>\n",
       "      <th>Monthly Average Rainfall</th>\n",
       "    </tr>\n",
       "  </thead>\n",
       "  <tbody>\n",
       "    <tr>\n",
       "      <th>0</th>\n",
       "      <td>[18.3, 18.3, 18.9, 20.6, 21.1, 21.7, 23.9, 24....</td>\n",
       "      <td>[110.7, 119.1, 74.2, 31.5, 8.4, 2.3, 0.5, 1.3,...</td>\n",
       "    </tr>\n",
       "  </tbody>\n",
       "</table>\n",
       "</div>"
      ],
      "text/plain": [
       "                                Monthly Average Temp  \\\n",
       "0  [18.3, 18.3, 18.9, 20.6, 21.1, 21.7, 23.9, 24....   \n",
       "\n",
       "                            Monthly Average Rainfall  \n",
       "0  [110.7, 119.1, 74.2, 31.5, 8.4, 2.3, 0.5, 1.3,...  "
      ]
     },
     "execution_count": 39,
     "metadata": {},
     "output_type": "execute_result"
    }
   ],
   "source": [
    "# import pandas as pd\n",
    "average_high_temps = [18.3, 18.3, 18.9, 20.6, 21.1, 21.7, 23.9, 24.4, 23.9, 22.8, 20.6, 18.3]\n",
    "average_rainfall = [110.7, 119.1, 74.2, 31.5, 8.4, 2.3, 0.5, 1.3, 3.6, 22.9, 45.5, 77.2]\n",
    "\n",
    "# THIS DATAFRAME IS NOT ATOMIC. EACH ELEMENT IN THE COLUMN IS A LIST.\n",
    "sb_climate = pd.DataFrame([\n",
    "    [average_high_temps, # The first column will contain a list.\n",
    "     average_rainfall]], # The second column will also contain a list.\n",
    "    columns=['Monthly Average Temp', 'Monthly Average Rainfall'] # Column names\n",
    ")\n",
    "sb_climate.head()"
   ]
  },
  {
   "cell_type": "markdown",
   "metadata": {
    "slideshow": {
     "slide_type": "subslide"
    }
   },
   "source": [
    "### Atomic Columns\n",
    "\n",
    "The idea of atomic columns is that each element in a data structure should contain a unique value. This requirement is harder to obtain and you will sometimes violate it.\n"
   ]
  },
  {
   "cell_type": "code",
   "execution_count": 42,
   "metadata": {
    "slideshow": {
     "slide_type": "fragment"
    }
   },
   "outputs": [
    {
     "data": {
      "text/html": [
       "<div>\n",
       "<style scoped>\n",
       "    .dataframe tbody tr th:only-of-type {\n",
       "        vertical-align: middle;\n",
       "    }\n",
       "\n",
       "    .dataframe tbody tr th {\n",
       "        vertical-align: top;\n",
       "    }\n",
       "\n",
       "    .dataframe thead th {\n",
       "        text-align: right;\n",
       "    }\n",
       "</style>\n",
       "<table border=\"1\" class=\"dataframe\">\n",
       "  <thead>\n",
       "    <tr style=\"text-align: right;\">\n",
       "      <th></th>\n",
       "      <th>Average_High_Temperature</th>\n",
       "      <th>Average_Rainfall</th>\n",
       "    </tr>\n",
       "  </thead>\n",
       "  <tbody>\n",
       "    <tr>\n",
       "      <th>January</th>\n",
       "      <td>18.3</td>\n",
       "      <td>110.7</td>\n",
       "    </tr>\n",
       "    <tr>\n",
       "      <th>February</th>\n",
       "      <td>18.3</td>\n",
       "      <td>119.1</td>\n",
       "    </tr>\n",
       "    <tr>\n",
       "      <th>March</th>\n",
       "      <td>18.9</td>\n",
       "      <td>74.2</td>\n",
       "    </tr>\n",
       "    <tr>\n",
       "      <th>April</th>\n",
       "      <td>20.6</td>\n",
       "      <td>31.5</td>\n",
       "    </tr>\n",
       "    <tr>\n",
       "      <th>May</th>\n",
       "      <td>21.1</td>\n",
       "      <td>8.4</td>\n",
       "    </tr>\n",
       "  </tbody>\n",
       "</table>\n",
       "</div>"
      ],
      "text/plain": [
       "          Average_High_Temperature  Average_Rainfall\n",
       "January                       18.3             110.7\n",
       "February                      18.3             119.1\n",
       "March                         18.9              74.2\n",
       "April                         20.6              31.5\n",
       "May                           21.1               8.4"
      ]
     },
     "execution_count": 42,
     "metadata": {},
     "output_type": "execute_result"
    }
   ],
   "source": [
    "import pandas as pd\n",
    "average_high_temps = [18.3, 18.3, 18.9, 20.6, 21.1, 21.7, 23.9, 24.4, 23.9, 22.8, 20.6, 18.3]\n",
    "average_rainfall = [110.7, 119.1, 74.2, 31.5, 8.4, 2.3, 0.5, 1.3, 3.6, 22.9, 45.5, 77.2]\n",
    "\n",
    "# THIS DATAFRAME IS ATOMIC. EACH ELEMENT IN THE COLUMN IS A SINGLE VALUE.\n",
    "sb_climate = pd.DataFrame({ # Using a dict to create the data frame.\n",
    "    'Average_High_Temperature':average_high_temps, # This is the first column\n",
    "    'Average_Rainfall':average_rainfall # This is the second column\n",
    "})\n",
    "sb_climate.index = ['January', 'February', 'March', 'April', 'May', 'June', 'July', 'August', 'September', 'October', 'November', 'December']\n",
    "sb_climate.head()"
   ]
  },
  {
   "cell_type": "markdown",
   "metadata": {
    "slideshow": {
     "slide_type": "subslide"
    }
   },
   "source": [
    "### Transitive  Dependencies\n",
    "\n",
    "The idea of transitive dependencies is the inclusion of multiple associated attributes within the same data structure. \n",
    "\n",
    "- Transitive dependencies make _updating_ data very difficult, but they can be helpful in _analyzying_ data. \n",
    "\n",
    "- So we should only introduce them in data that we will not be editing. \n",
    "\n",
    "Usually environmental data, and especially timeseries, are rarely modified after creation. So we don't need to worry as much about these dependencies.\n",
    "\n",
    "For example, contrast a data record of \"temperatures through time\" to a data record of \"user contacts in a social network\".\n"
   ]
  },
  {
   "cell_type": "markdown",
   "metadata": {
    "slideshow": {
     "slide_type": "subslide"
    }
   },
   "source": [
    "### Transitive  Dependencies\n",
    "\n",
    "The idea of transitive dependencies is the inclusion of multiple associated attributes within the same data structure. \n"
   ]
  },
  {
   "cell_type": "code",
   "execution_count": 44,
   "metadata": {
    "slideshow": {
     "slide_type": "fragment"
    }
   },
   "outputs": [
    {
     "data": {
      "text/html": [
       "<div>\n",
       "<style scoped>\n",
       "    .dataframe tbody tr th:only-of-type {\n",
       "        vertical-align: middle;\n",
       "    }\n",
       "\n",
       "    .dataframe tbody tr th {\n",
       "        vertical-align: top;\n",
       "    }\n",
       "\n",
       "    .dataframe thead th {\n",
       "        text-align: right;\n",
       "    }\n",
       "</style>\n",
       "<table border=\"1\" class=\"dataframe\">\n",
       "  <thead>\n",
       "    <tr style=\"text-align: right;\">\n",
       "      <th></th>\n",
       "      <th>Month</th>\n",
       "      <th>Season</th>\n",
       "      <th>Avg_High_Temp</th>\n",
       "      <th>Avg_Rain</th>\n",
       "    </tr>\n",
       "  </thead>\n",
       "  <tbody>\n",
       "    <tr>\n",
       "      <th>0</th>\n",
       "      <td>January</td>\n",
       "      <td>Winter</td>\n",
       "      <td>18.3</td>\n",
       "      <td>110.7</td>\n",
       "    </tr>\n",
       "    <tr>\n",
       "      <th>1</th>\n",
       "      <td>February</td>\n",
       "      <td>Winter</td>\n",
       "      <td>18.3</td>\n",
       "      <td>119.1</td>\n",
       "    </tr>\n",
       "    <tr>\n",
       "      <th>2</th>\n",
       "      <td>March</td>\n",
       "      <td>Spring</td>\n",
       "      <td>18.9</td>\n",
       "      <td>74.2</td>\n",
       "    </tr>\n",
       "    <tr>\n",
       "      <th>3</th>\n",
       "      <td>April</td>\n",
       "      <td>Spring</td>\n",
       "      <td>20.6</td>\n",
       "      <td>31.5</td>\n",
       "    </tr>\n",
       "    <tr>\n",
       "      <th>4</th>\n",
       "      <td>May</td>\n",
       "      <td>Spring</td>\n",
       "      <td>21.1</td>\n",
       "      <td>8.4</td>\n",
       "    </tr>\n",
       "  </tbody>\n",
       "</table>\n",
       "</div>"
      ],
      "text/plain": [
       "      Month  Season  Avg_High_Temp  Avg_Rain\n",
       "0   January  Winter           18.3     110.7\n",
       "1  February  Winter           18.3     119.1\n",
       "2     March  Spring           18.9      74.2\n",
       "3     April  Spring           20.6      31.5\n",
       "4       May  Spring           21.1       8.4"
      ]
     },
     "execution_count": 44,
     "metadata": {},
     "output_type": "execute_result"
    }
   ],
   "source": [
    "import pandas as pd\n",
    "average_high_temps = [18.3, 18.3, 18.9, 20.6, 21.1, 21.7, 23.9, 24.4, 23.9, 22.8, 20.6, 18.3]\n",
    "average_rainfall = [110.7, 119.1, 74.2, 31.5, 8.4, 2.3, 0.5, 1.3, 3.6, 22.9, 45.5, 77.2]\n",
    "# TRANSITIVE ASSOCIATIONS EXIST BETWEEN MONTHS AND SEASONS IN THIS DATAFRAME:\n",
    "month = ['January', 'February', 'March', 'April', 'May', 'June', 'July', 'August', 'September', 'October', 'November', 'December']\n",
    "season = ['Winter', 'Winter', 'Spring', 'Spring', 'Spring', 'Summer', 'Summer', 'Summer', 'Fall', 'Fall', 'Fall', 'Winter']\n",
    "sb_climate = pd.DataFrame({ # Using a dict to create the data frame.\n",
    "    'Month': month,         # Adding month as the first column of the data frame\n",
    "    'Season': season,       # Adding the season for each month (this is a transitive dependency)\n",
    "    'Avg_High_Temp':average_high_temps, # This is the third column\n",
    "    'Avg_Rain':average_rainfall         # This is the fourth column\n",
    "})\n",
    "sb_climate.head()"
   ]
  },
  {
   "cell_type": "markdown",
   "metadata": {
    "slideshow": {
     "slide_type": "subslide"
    }
   },
   "source": [
    "### Normalization Summary\n",
    "\n",
    "In general, for data analysis, basic normalization is handled for you.\n",
    "\n",
    "- For _read only_ data with fixed associations, a lack of normalization is manageable. \n",
    "\n",
    "- However, many analyses are easier if you structure your data in ways that are as normalized as possible.\n",
    "\n",
    "- If you are _collecting_ data then it is important to develop an organization structure that is normalized. \n",
    "\n",
    "\n"
   ]
  },
  {
   "cell_type": "markdown",
   "metadata": {
    "slideshow": {
     "slide_type": "slide"
    }
   },
   "source": [
    "## Python Library Show-and-Tell\n",
    "\n",
    "1. Find a Library\n",
    "1. Create a notebook about the library\n",
    "1. Present notebook to class (10-15 min)\n",
    "\n"
   ]
  },
  {
   "cell_type": "markdown",
   "metadata": {
    "slideshow": {
     "slide_type": "subslide"
    }
   },
   "source": [
    "### Find a Library\n",
    "    \n",
    "- [PyPi](https://pypi.org) `pypi.org`\n",
    "- [Towards Data Science](https://towardsdatascience.com) `towardsdatascience.com`\n",
    "- Podcasts: [Talk Python to Me](https://talkpython.fm/episodes/all), [Linear Digressions](https://lineardigressions.com), [Python Bytes](https://pythonbytes.fm)\n",
    "- Domain-specific searches \"python oceanography\"\n",
    "\n",
    "Good candidates for a Show-and-Tell are libraries that are relevant and popular. \n",
    "\n",
    "Popularity can measured with GitHub stars, or PyPi downloads. Or if folks in the data science community are talking about it.\n"
   ]
  },
  {
   "cell_type": "markdown",
   "metadata": {
    "slideshow": {
     "slide_type": "subslide"
    }
   },
   "source": [
    "### Create a notebook about the library.\n",
    "    \n",
    "- Brief Description\n",
    "    - What is it?\n",
    "    - Where is it? Link to project webpage, github\n",
    "    - Who developed?\n",
    "    - Why was it created?\n",
    "- Potential Use in Environmental Data Science\n",
    "- Quick tutorial/example, using Env. Data Sci example if possible!\n",
    "    - Okay to incorporate examples found elsewhere (provide link and acknowledgement!)\n",
    "    \n",
    "\n"
   ]
  },
  {
   "cell_type": "markdown",
   "metadata": {
    "slideshow": {
     "slide_type": "subslide"
    }
   },
   "source": [
    "### Library Show-and-Tell\n",
    "    \n",
    "- Present your notebook to the class!\n",
    "- 10-15 minute presentation.\n",
    "- Q&A.\n",
    "- We will do 1/2 of the presentations during the 6th week of class (May 7) and the other half during the 7th week (May 14).\n",
    "\n",
    "#### BY NEXT WEEK: SELECT YOUR LIBRARY, PLUS TWO ALTERNATES (IN CASE OF DUPLICATES)\n",
    "\n",
    "\n"
   ]
  },
  {
   "cell_type": "markdown",
   "metadata": {
    "slideshow": {
     "slide_type": "slide"
    }
   },
   "source": [
    "## The End"
   ]
  }
 ],
 "metadata": {
  "celltoolbar": "Slideshow",
  "kernelspec": {
   "display_name": "Python 3",
   "language": "python",
   "name": "python3"
  },
  "language_info": {
   "codemirror_mode": {
    "name": "ipython",
    "version": 3
   },
   "file_extension": ".py",
   "mimetype": "text/x-python",
   "name": "python",
   "nbconvert_exporter": "python",
   "pygments_lexer": "ipython3",
   "version": "3.7.3"
  }
 },
 "nbformat": 4,
 "nbformat_minor": 4
}
