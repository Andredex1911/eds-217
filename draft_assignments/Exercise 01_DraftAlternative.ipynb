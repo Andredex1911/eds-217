{
 "cells": [
  {
   "cell_type": "markdown",
   "metadata": {
    "slideshow": {
     "slide_type": "slide"
    }
   },
   "source": [
    "# Exercise 1: Introduction to Python\n",
    "Description of exercise, topics covered, etc.\n",
    "\n",
    "\n",
    "This exercise will cover the following topics:\n",
    "\n",
    "___"
   ]
  },
  {
   "cell_type": "markdown",
   "metadata": {},
   "source": [
    "## 1. Variables + Types\n",
    "Variables are used in Python to create references to an object (e.g. string, float, DataFrame, etc.). Variables are assigned in Python using \"=\".\n",
    "\n",
    "___\n",
    "### Numbers\n",
    "Numbers in Python can be either **integers** (whole numbers) or **floats** (floating point decimal numbers).\n",
    "\n",
    "The following syntax is used to define an integer:"
   ]
  },
  {
   "cell_type": "code",
   "execution_count": null,
   "metadata": {},
   "outputs": [],
   "source": [
    "x = 1\n",
    "y = 10"
   ]
  },
  {
   "cell_type": "markdown",
   "metadata": {},
   "source": [
    "The following syntax is used to define a float:"
   ]
  },
  {
   "cell_type": "code",
   "execution_count": null,
   "metadata": {},
   "outputs": [],
   "source": [
    "a = 1.0\n",
    "b = 10.0\n",
    "c = 23.787402"
   ]
  },
  {
   "cell_type": "markdown",
   "metadata": {},
   "source": [
    "#### Basic Arithmetic Operators\n",
    "Just like a calculator, basic arithmetic can be done on numbers using the `+`, `-`, `*`, and `/` operators. The `%` operator yields the remainder of dividing one number by another.\n",
    "\n",
    "<div class=\"alert alert-block alert-info\">\n",
    "✏️ <b>Practice:</b> Practice these basic operations by running the code in the cell below. Use the <code>print()</code>  command to output your answers. <b>Hint:</b> Don't forget to assign your variables first!\n",
    "</div>"
   ]
  },
  {
   "cell_type": "code",
   "execution_count": null,
   "metadata": {},
   "outputs": [],
   "source": [
    "# Define variables x and y as integers.\n",
    "\n",
    "# Define variables a, b, and c as floats.\n",
    "\n",
    "# Do some math.\n",
    "z = x + y\n",
    "d = c / 7.1\n",
    "v = a - d * (c + d)\n",
    "u = c % 2\n",
    "\n",
    "# Print your answers.\n"
   ]
  },
  {
   "cell_type": "markdown",
   "metadata": {},
   "source": [
    "Notice that the order of operations applies.\n",
    "\n",
    "#### Convert between data types\n",
    "The commands `int()` and `float()` commands are used to convert between data types. 🐍 Note: when converting a float value to an integer, the `int()` command always rounds *down* to the nearest whole number. Run the cell below to demonstrate this.\n",
    "\n",
    "<div class=\"alert alert-block alert-success\">\n",
    "▶️ <b>Run the cell below.</b>\n",
    "</div>"
   ]
  },
  {
   "cell_type": "code",
   "execution_count": null,
   "metadata": {},
   "outputs": [],
   "source": [
    "int(c)\n",
    "float(y)"
   ]
  },
  {
   "cell_type": "markdown",
   "metadata": {},
   "source": [
    "___\n",
    "### Strings\n",
    "Pieces of text in Python are referred to as strings. Strings are defined with either single or double quotes. The only difference between the two is that it is easier to use an apostrophe with double quotes.\n",
    "```python\n",
    "    mytext = 'This is a string.'\n",
    "    mytext2 = \"This is also a string.\"\n",
    "```\n",
    "To use an apostrope or single quotes inside a string defined by single quotes (or to use double quotes), use a single backslash ( \\\\ ) referred to as an \"escape\" character.\n",
    "```python\n",
    "    q1a = \"What is Newton's 1st law?\"\n",
    "    q1b = 'What is Newton\\'s 1st law?'\n",
    "```\n",
    "\n",
    "<div class=\"alert alert-block alert-info\">\n",
    "✏️ <b>Practice:</b> In the cell below, answer the question by defining a new string variable. Use the <code>print()</code>  command to output your answer.\n",
    "</div>"
   ]
  },
  {
   "cell_type": "code",
   "execution_count": null,
   "metadata": {},
   "outputs": [],
   "source": [
    "# Question\n",
    "q1 = 'What is Newton\\'s 1st law?'\n",
    "# Type your answer below\n"
   ]
  },
  {
   "cell_type": "markdown",
   "metadata": {},
   "source": [
    "#### String Operations\n",
    "The `+` operator can be used to combine two strings"
   ]
  },
  {
   "cell_type": "code",
   "execution_count": null,
   "metadata": {},
   "outputs": [],
   "source": []
  },
  {
   "cell_type": "code",
   "execution_count": null,
   "metadata": {},
   "outputs": [],
   "source": []
  }
 ],
 "metadata": {
  "kernelspec": {
   "display_name": "Python 3",
   "language": "python",
   "name": "python3"
  },
  "language_info": {
   "codemirror_mode": {
    "name": "ipython",
    "version": 3
   },
   "file_extension": ".py",
   "mimetype": "text/x-python",
   "name": "python",
   "nbconvert_exporter": "python",
   "pygments_lexer": "ipython3",
   "version": "3.7.3"
  }
 },
 "nbformat": 4,
 "nbformat_minor": 2
}
