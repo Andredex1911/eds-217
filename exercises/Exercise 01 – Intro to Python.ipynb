{
 "cells": [
  {
   "cell_type": "markdown",
   "metadata": {
    "slideshow": {
     "slide_type": "slide"
    }
   },
   "source": [
    "# Exercise 1: Introduction to Python\n",
    "Description of exercise, topics covered, etc.\n",
    "\n",
    "Topics covered (so far): variables, lists\n",
    "\n",
    "\n",
    "<hr style=\"border-top: 1px solid gray; margin-top: 24px; margin-bottom: 1px\"></hr>"
   ]
  },
  {
   "cell_type": "markdown",
   "metadata": {
    "slideshow": {
     "slide_type": "subslide"
    }
   },
   "source": [
    "## 1. Variables + Types\n",
    "Variables are used in Python to create references to an object (e.g. string, float, DataFrame, etc.). Variables are assigned in Python using \"=\".\n",
    "<hr style=\"border-top: 0.2px solid gray; margin-top: 12px; margin-bottom: 1px\"></hr>\n",
    "\n",
    "### Numbers\n",
    "Numbers in Python can be either **integers** (whole numbers) or **floats** (floating point decimal numbers).\n",
    "\n",
    "The following syntax is used to define an integer:\n",
    "```python\n",
    "x = 1\n",
    "y = 10\n",
    "```\n",
    "\n",
    "The following syntax is used to define a float:\n",
    "```python\n",
    "a = 1.0\n",
    "b = 10.0\n",
    "c = 23.782043\n",
    "```\n",
    "\n",
    "#### Basic Arithmetic Operators\n",
    "Just like a calculator, basic arithmetic can be done on numbers using the `+`, `-`, `*`, and `/` operators. The `%` operator yields the remainder of dividing one number by another.\n",
    "\n",
    "<div class=\"alert alert-block alert-info\">\n",
    "✏️ <b>Practice:</b> Practice these basic operations by running the code in the cell below. Use the <code>print()</code>  command to output your answers. <b>Hint:</b> Don't forget to assign your variables first!\n",
    "</div>"
   ]
  },
  {
   "cell_type": "code",
   "execution_count": null,
   "metadata": {},
   "outputs": [],
   "source": [
    "# Define variables x and y as integers.\n",
    "\n",
    "# Define variables a, b, and c as floats.\n",
    "\n",
    "# Do some math.\n",
    "z = x + y\n",
    "d = c / 7.1\n",
    "v = a - d * (c + d)\n",
    "u = c % 2\n",
    "\n",
    "# Print your answers.\n"
   ]
  },
  {
   "cell_type": "markdown",
   "metadata": {},
   "source": [
    "Notice that the order of operations applies.\n",
    "\n",
    "#### Convert between data types\n",
    "The commands `int()` and `float()` commands are used to convert between data types. Note: when converting a float value to an integer, the `int()` command always rounds *down* to the nearest whole number. Run the cell below to demonstrate this.\n",
    "\n",
    "<div class=\"alert alert-block alert-info\">\n",
    "▶️ <b>Run the cell below.</b>\n",
    "</div>"
   ]
  },
  {
   "cell_type": "code",
   "execution_count": null,
   "metadata": {},
   "outputs": [],
   "source": [
    "int(c)\n",
    "float(y)"
   ]
  },
  {
   "cell_type": "markdown",
   "metadata": {},
   "source": [
    "<hr style=\"border-top: 0.2px solid gray; margin-top: 12px; margin-bottom: 1px\"></hr>\n",
    "\n",
    "### Strings\n",
    "Pieces of text in Python are referred to as strings. Strings are defined with either single or double quotes. The only difference between the two is that it is easier to use an apostrophe with double quotes.\n",
    "```python\n",
    "mytext = 'This is a string.'\n",
    "mytext2 = \"This is also a string.\"\n",
    "```\n",
    "To use an apostrope or single quotes inside a string defined by single quotes (or to use double quotes), use a single backslash ( \\\\ ) referred to as an \"escape\" character.\n",
    "```python\n",
    "q1a = \"What is Newton's 1st law?\"\n",
    "q1b = 'What is Newton\\'s 1st law?'\n",
    "```\n",
    "\n",
    "<div class=\"alert alert-block alert-info\">\n",
    "✏️ <b>Practice:</b> In the cell below, answer the question by defining a new string variable. Use the <code>print()</code>  command to output your answer.\n",
    "</div>"
   ]
  },
  {
   "cell_type": "code",
   "execution_count": null,
   "metadata": {},
   "outputs": [],
   "source": [
    "# Question\n",
    "q1 = 'What is Newton\\'s 1st law?'\n",
    "\n",
    "# Type your answer below\n"
   ]
  },
  {
   "cell_type": "markdown",
   "metadata": {},
   "source": [
    "#### String Operations\n",
    "Just like the `int()` and `float` commands, the `str()` command converts a number to a string.\n",
    "```python\n",
    "number = str(42)\n",
    "```\n",
    "\n",
    "The `+` operator can be used to combine two or more strings.\n",
    "```python\n",
    "s = 'isaac' + ' ' + 'newton'\n",
    "```\n",
    "\n",
    "The commands `string.upper()` and `string.capitalize()` can be used to convert all letters in the string to uppercase and capitalize the first letter in the string, respectively.\n",
    "```python\n",
    "s.upper()\n",
    "s.capitalize()\n",
    "```\n",
    "\n",
    "<div class=\"alert alert-block alert-info\">\n",
    "✏️ <b>Practice:</b> Assign your first and last names to variables and use the <code>+</code> operator to combine them into a single variable. Practice capitalizing the first letter and then the entire string. Print your answers.\n",
    "</div>"
   ]
  },
  {
   "cell_type": "code",
   "execution_count": null,
   "metadata": {},
   "outputs": [],
   "source": [
    "# Define variables\n",
    "\n",
    "# Combine in a single string.\n",
    "\n",
    "# Capitalize.\n",
    "\n",
    "# Print outputs.\n"
   ]
  },
  {
   "cell_type": "markdown",
   "metadata": {},
   "source": [
    "<hr style=\"border-top: 0.5px solid black; margin-top: 1px; margin-bottom: 1px\"></hr>\n",
    "\n",
    "## 2. Lists\n",
    "A list is a Python object used to contain multiple values. Lists are defined as follows:\n",
    "```python\n",
    "num_list = [4, 23, 654, 2, 0, -12, 4391]\n",
    "str_list = ['energy', 'water', 'carbon']\n",
    "```\n",
    "While you can create lists containing mixed data types, this is not usually recommended.\n",
    "\n",
    "Use the command `len()` to return the length of the list.\n",
    "```python\n",
    "len(num_list)\n",
    ">>> 7\n",
    "```\n",
    "\n",
    "### Indexing\n",
    "The index is used to reference a value in an iterable object by its position. To access an element in a list by its index, use square brackets `[]`.\n",
    "\n",
    "<p style=\"border:1px; border-style:solid; border-color:#408000; padding: 0.5em;\">🐍 <span style=\"color:#408000\"> <b>Note:</b> Python is zero-indexed, meaning that the first element in the list is 0, the second is 1, and so on. The last element in a list with n elements is n-1. </span> \n",
    "\n",
    " \n",
    "```python\n",
    "num_list[2]\n",
    ">>> 654\n",
    "```\n",
    "You can also access elements based on their position from the end.\n",
    "```python\n",
    "num_list[-2]\n",
    ">>> -12\n",
    "```\n",
    "Accessing a range of values in a list is called **slicing**. A slice specifies a start an end, generating a new list based on the indices. The indices are separated by a `:`. 🐍 Note: the second index is exclusive.\n",
    "```python\n",
    "num_list[2:6]   # returns [654, 2, 0, -12]\n",
    "num_list[0:4]   # returns [4, 23, 654, 2]\n",
    "num_list[:4]    # returns [4, 23, 654, 2]\n",
    "num_list[-6:-1] # returns [23, 654, 2, 0,-12]\n",
    "```\n",
    "It is also possible to specify a step size, i.e. `[start:stop:step]`. A step size of 1 would select every element, 2 would select every other element, etc.\n",
    "```python\n",
    "num_list[0:4:2]  # returns [4, 654]\n",
    "num_list[::2]    # returns [4, 654, 0, 4391]\n",
    "```\n",
    "A step of -1 returns the list in reverse.\n",
    "```python\n",
    "num_list[::-1]\n",
    ">>> [4391, -12, 0, 2, 654, 23, 4]\n",
    "```\n",
    "<div class=\"alert alert-block alert-info\">\n",
    "✏️ <b>Practice:</b> Indexing practice ...\n",
    "</div>"
   ]
  },
  {
   "cell_type": "code",
   "execution_count": null,
   "metadata": {},
   "outputs": [],
   "source": [
    "# Practice indexing\n",
    "colors = ['red', 'blue', 'green', 'black', 'white']\n",
    "colors.append('pink')\n",
    "colors.insert(4, 'purple')\n",
    "sorted(colors)\n",
    "colors"
   ]
  },
  {
   "cell_type": "markdown",
   "metadata": {},
   "source": [
    "### List Operations\n",
    "Elements can be added to a list using the command `list.append()`.\n",
    "```python\n",
    "colors = ['red', 'blue', 'green', 'black', 'white']\n",
    "colors.append('pink')\n",
    "print(colors)\n",
    ">>> ['red', 'blue', 'green', 'black', 'white', 'pink']\n",
    "```\n",
    "You can **add** an element to a list in a specific position using the command `list.insert()`.\n",
    "```python\n",
    "colors.insert(4, 'purple')\n",
    "print(colors)\n",
    ">>> ['red', 'blue', 'green', 'black', 'purple', 'white']\n",
    "```\n",
    "There are multiple ways to **remove** elements from a list. The commands `list.pop()` and `del` remove elements based on indices.\n",
    "```python\n",
    "colors.pop()       # removes the last element\n",
    "colors.pop(2)      # removes the third element\n",
    "del colors[2]      # removes the third element\n",
    "del colors[2:4]    # removes the third and fourth elements\n",
    "```\n",
    "The command `list.remove()` removes an element based on its value.\n",
    "```python\n",
    "colors.remove('red')\n",
    "print(colors)\n",
    ">>> ['blue', 'green', 'black', 'purple', 'white', 'pink']\n",
    "```\n",
    "You can **sort** the elements in a list (numerically or alphabetically) in two ways. The first uses the command `list.sort()`.\n",
    "```python\n",
    "rand_list = [5.1 , 3.42 , 3.333 , 100.4 , 0.5 , 26.0 , 7.44 , 5.8 , 39.0]\n",
    "rand_list.sort()\n",
    "print(rand_list)\n",
    ">>> [0.5, 3.333, 3.42, 5.1, 5.8, 7.44, 26.0, 39.0, 100.4]\n",
    "```\n",
    "Setting `reverse=True` within this command sorts the list in reverse order:\n",
    "```python\n",
    "rand_list = [5.1 , 3.42 , 3.333 , 100.4 , 0.5 , 26.0 , 7.44 , 5.8 , 39.0]\n",
    "rand_list.sort(reverse=True)\n",
    "print(rand_list)\n",
    ">>> [100.4, 39.0, 26.0, 7.44, 5.8, 5.1, 3.42, 3.333, 0.5]\n",
    "```\n",
    "So far, all of the list commands we've used have been **in-place operators**. This means that they perform the operation to the variable in place without requiring a new variable to be assigned. By contrast, **standard operators** do not change the original list variable. A new variable must be set in order to retain the operation. \n",
    "\n",
    "For example, after running the `list.sort()` command on our `rand_list` variable, the first value in the list is now the lowest.\n",
    "```python\n",
    "rand_list = [5.1 , 3.42 , 3.333 , 100.4 , 0.5 , 26.0 , 7.44 , 5.8 , 39.0]\n",
    "rand_list.sort()\n",
    "print(rand_list[0])\n",
    ">>> 0.5\n",
    "```\n",
    "The other method of sorting a list is using the `sorted()` command, which does not change the original list. Instead, the sorted list must be assigned to a new variable.\n",
    "```python\n",
    "rand_list = [5.1 , 3.42 , 3.333 , 100.4 , 0.5 , 26.0 , 7.44 , 5.8 , 39.0]\n",
    "sorted_list = sorted(rand_list)\n",
    "print(rand_list[0])\n",
    "print(sorted_list[0])\n",
    ">>> 5.1\n",
    "    0.5\n",
    "```\n",
    "To avoid changing the original variable when using an in-place operator, it is wise to create a copy. There are multiple ways to create copies of lists, but it is important to know the difference between a true **copy** and a **view**. A view of a list can be created as follows:\n",
    "```python\n",
    "str_list = ['energy', 'water', 'carbon']\n",
    "str_list_view = str_list\n",
    "```\n",
    "Any in-place operation performed on `str_list_view` will also be applied to `str_list`. To avoid this, create a copy of `str_list` using any of the following methods:\n",
    "```python\n",
    "str_list_copy = str_list.copy()\n",
    "# or\n",
    "str_list_copy = str_list[:]\n",
    "# or\n",
    "str_list_copy = list(str_list)\n",
    "```\n",
    "\n",
    "TO DO: Adding lists, lists of lists"
   ]
  },
  {
   "cell_type": "markdown",
   "metadata": {},
   "source": [
    "### Generating lists\n",
    "TO DO: add `range()` function, exercises at the end"
   ]
  }
 ],
 "metadata": {
  "kernelspec": {
   "display_name": "Python 3",
   "language": "python",
   "name": "python3"
  },
  "language_info": {
   "codemirror_mode": {
    "name": "ipython",
    "version": 3
   },
   "file_extension": ".py",
   "mimetype": "text/x-python",
   "name": "python",
   "nbconvert_exporter": "python",
   "pygments_lexer": "ipython3",
   "version": "3.7.3"
  }
 },
 "nbformat": 4,
 "nbformat_minor": 2
}