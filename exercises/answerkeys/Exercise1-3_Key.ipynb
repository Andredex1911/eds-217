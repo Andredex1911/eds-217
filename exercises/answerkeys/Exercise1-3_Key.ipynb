{
 "cells": [
  {
   "cell_type": "markdown",
   "metadata": {},
   "source": [
    "# Exercise 1.3: Control Flow Statements\n",
    "The **control flow** of a program refers to the order in which its code is executed. In Python, control flow is regulated by conditional statements, loops, and functions. This exercise will cover `if` statements, `for` loops, and `while` loops; functions will be covered in Exercise 1.5.\n",
    "\n",
    "<p style=\"height:1pt\"> </p>\n",
    "\n",
    "<div class=\"boxhead1\">\n",
    "    Exercise 1.3 Control Flow Statements\n",
    "</div>\n",
    "\n",
    "<div class=\"boxtext1\">\n",
    "<ul class=\"a\">\n",
    "    <li> 📌 Conditionals: <code>if</code> statements </li>\n",
    "    <ul class=\"b\">\n",
    "        <li> Basic <code>if</code> statements </li>\n",
    "        <li> Evaluating multiple conditions with <code>if... elif... else</code> </li>\n",
    "        <li> Operators: <code>or</code>, <code>and</code>, <code>in</code> </li>\n",
    "        <li> Nested <code>if</code> statements </li>\n",
    "    </ul>\n",
    "    <li> 📌 <code>for</code> loops </li>\n",
    "    <ul class=\"b\">\n",
    "        <li> Generic counter <code>for</code> loops </li>\n",
    "        <li> Iterating through lists </li>\n",
    "        <li> Enumerating lists </li>\n",
    "        <li> Iterating through multiple lists at once </li>\n",
    "        <li> Nested <code>for</code> loops </li>\n",
    "    </ul>\n",
    "    <li> 📌 <code>while</code> loops </li>     \n",
    "    <ul class=\"b\">\n",
    "    </ul>    \n",
    "    <li> 📌 Escaping loops\n",
    "    <ul class=\"b\">\n",
    "        <li> <code>break</code> statements </li>\n",
    "        <li> <code>continue</code> statements  </li>\n",
    "    </ul>\n",
    "</ul>\n",
    "</div>\n",
    "\n",
    "<hr style=\"border-top: 0.2px solid gray; margin-top: 12pt; margin-bottom: 0pt\"></hr>\n",
    "\n",
    "### Instructions\n",
    "Work through the exercise, writing code where indicated. To run a cell, click on the cell and press \"Shift\" + \"Enter\" or click the \"Run\" button in the toolbar at the top. Note: Do not restart the kernel and clear all outputs. If this happens, run the last cell in the notebook before proceeding.\n",
    "\n",
    "<p style=\"color:#408000; font-weight: bold\"> 🐍 &nbsp; &nbsp; This symbol designates an important note about Python structure, syntax, or another quirk.  </p>\n",
    "\n",
    "<p style=\"color:#008C96; font-weight: bold\"> ▶️ &nbsp; &nbsp; This symbol designates a cell with code to be run.  </p>\n",
    "\n",
    "<p style=\"color:#008C96; font-weight: bold\"> ✏️ &nbsp; &nbsp; This symbol designates a partially coded cell with an example.  </p>\n",
    "\n",
    "<p style=\"color:#008C96; font-weight: bold\"> 📚 &nbsp; &nbsp; This symbol designates a practice question.  </p>\n",
    "\n",
    "\n",
    "<hr style=\"border-top: 1px solid gray; margin-top: 24px; margin-bottom: 1px\"></hr>"
   ]
  },
  {
   "cell_type": "markdown",
   "metadata": {},
   "source": [
    "### Conditionals\n",
    "We've already learned about boolean operators for evaluating numerical conditions and returning `True` or `False`. `if` statements are code blocks used for similar simple comparisons, or for more complex or multiple comparisons. \n",
    "\n",
    "Code blocks are created by indenting (using a tab or 4 spaces) lines of code following an `if` statement. If the condition is met, the program will proceed through the indented code block. If not, it will move on to the next unindented line.\n",
    "\n",
    "Example if statement\n",
    "```python\n",
    "x = 1\n",
    "if x > 0:\n",
    "    print('x is a positive number.')\n",
    "```\n",
    "<p style=\"font-family: Lucida Console, Courier, monospace; margin-left: 22pt; margin-top: 0pt; margin-bottom: 12pt\"> <span style=\"color: #A514F6; font-weight: bold\"> >>> </span> x is a positive number.</p> \n",
    "\n",
    "\n",
    "<div class=\"example\">\n",
    "✏️ Try it.\n",
    "    Run the following cell, changing the value of x to be negative or positive to demonstrate how the <code>if</code> statement works.\n",
    "</div>"
   ]
  },
  {
   "cell_type": "code",
   "execution_count": 1,
   "metadata": {},
   "outputs": [
    {
     "name": "stdout",
     "output_type": "stream",
     "text": [
      "x is a positive number.\n"
     ]
    }
   ],
   "source": [
    "# Define x\n",
    "x = 4\n",
    "# Evaluate condition\n",
    "if x > 0:\n",
    "    print('x is a positive number.')"
   ]
  },
  {
   "cell_type": "markdown",
   "metadata": {},
   "source": [
    "The `if` statement can be used in conjunction with the `else` command to instruct the program to do something different if the condition is not met.\n",
    "\n",
    "```python\n",
    "y = -3218\n",
    "if y > 0:\n",
    "    print('y is a positive number.')\n",
    "else:\n",
    "    print('y is not a positive number.')\n",
    "```\n",
    "<p style=\"font-family: Lucida Console, Courier, monospace; margin-left: 22pt; margin-top: 0pt; margin-bottom: 12pt\"> <span style=\"color: #A514F6; font-weight: bold\"> >>> </span> y is not a positive number.</p> \n",
    "\n",
    "\n",
    "To evaluate multiple conditions, add the `elif` command after the `if` statement. Infinite `elif` statements can be included.\n",
    "\n",
    "```python\n",
    "y = -3218\n",
    "if y > 0:\n",
    "    print('y is a positive number.')\n",
    "elif y == 0:\n",
    "    print('y = 0')\n",
    "else:\n",
    "    print('y is a negative number.')\n",
    "```\n",
    "<p style=\"font-family: Lucida Console, Courier, monospace; margin-left: 22pt; margin-top: 0pt; margin-bottom: 12pt\"> <span style=\"color: #A514F6; font-weight: bold\"> >>> </span> y is a negative number.</p> \n",
    "\n",
    "<div class=\"practice\">\n",
    "    📚  <b> Practice 1. </b> \n",
    "    In programs, <code>if</code> statements are useful for catching errors due to user input. Define two new variables based on user input: the first prompting for a temperature value and the second prompting for the units as \"F\" or \"C\". Using the equation below, write an <code>if</code> statement that converts the temperature input to °C if it was given in °F or to °F if given in °C. Recall that all variables assigned based on user input are strings. Be sure to comment your code.\n",
    "    \n",
    "Formula for conversion between °F and °C:\n",
    "    $$T_{^{\\circ} C} = (T_{^{\\circ} F} - 32) * \\frac{5}{9}$$\n",
    "    \n",
    "</div>\n"
   ]
  },
  {
   "cell_type": "code",
   "execution_count": 4,
   "metadata": {},
   "outputs": [
    {
     "name": "stdout",
     "output_type": "stream",
     "text": [
      "Temperature: 32\n",
      "Temperature units (F or C): F\n",
      "The temperature is 0 °C\n"
     ]
    }
   ],
   "source": [
    "# User input variables\n",
    "temp_in = float(input(\"Temperature: \"))\n",
    "units_in = input(\"Temperature units (F or C): \")\n",
    "\n",
    "# Convert temperature units\n",
    "if units_in == 'F':\n",
    "    temp = (temp_in - 32) * (5/9)\n",
    "    print(\"The temperature is %d°C.\" % (temp))\n",
    "else:\n",
    "    temp = (temp_in * (9/5)) + 32\n",
    "    print(\"The temperature is %d°F.\" % (temp))\n"
   ]
  },
  {
   "cell_type": "markdown",
   "metadata": {},
   "source": [
    "<h4 style=\"border:1px; border-style:solid; border-color:black; padding: 0.5em;\"> <span style=\"color:black\"> Operators </span> </h4>\n",
    "\n",
    "There are several operators that can be used within `if` statements to evaluate more complex conditions. The `in` operator is used to check if an object exists within an iterable object container, such as a list.\n",
    "\n",
    "```python\n",
    "aminoacids = ['histidine', 'isoleucine', 'leucine', 'lysine', 'methionine', \n",
    "              'phenylalanine', 'threonine', 'tryptophan', 'valine', 'alanine', \n",
    "              'arginine', 'asparagine', 'aspartate', 'cysteine', 'glutamate', \n",
    "              'glutamine', 'glycine', 'proline', 'serine', 'tyrosine']\n",
    "\n",
    "org_compound = 'cysteine'\n",
    "\n",
    "if org_compound in aminoacids:\n",
    "    print(org_compound.capitalize() + ' is an amino acid.' )\n",
    "else:\n",
    "    print(org_compound.capitalize() + ' is not an amino acid.')\n",
    "```\n",
    "<p style=\"font-family: Lucida Console, Courier, monospace; margin-left: 22pt; margin-top: 0pt; margin-bottom: 12pt\"> <span style=\"color: #A514F6; font-weight: bold\"> >>> </span> Cysteine is an amino acid.</p> \n",
    "\n",
    "<div class=\"run\">\n",
    "    ▶️ <b> Run the cell below. </b>\n",
    "</div>"
   ]
  },
  {
   "cell_type": "code",
   "execution_count": 5,
   "metadata": {},
   "outputs": [
    {
     "name": "stdout",
     "output_type": "stream",
     "text": [
      "Adenine is not an amino acid.\n"
     ]
    }
   ],
   "source": [
    "# List of amino acids\n",
    "aminoacids = ['histidine', 'isoleucine', 'leucine', 'lysine', 'methionine', \n",
    "              'phenylalanine', 'threonine', 'tryptophan', 'valine', 'alanine', \n",
    "              'arginine', 'asparagine', 'aspartate', 'cysteine', 'glutamate', \n",
    "              'glutamine', 'glycine', 'proline', 'serine', 'tyrosine']\n",
    "\n",
    "org_compound = 'adenine'\n",
    "if org_compound in aminoacids:\n",
    "    print(org_compound.capitalize() + ' is an amino acid.' )\n",
    "else:\n",
    "    print(org_compound.capitalize() + ' is not an amino acid.')"
   ]
  },
  {
   "cell_type": "markdown",
   "metadata": {},
   "source": [
    "The `and` and `or` operators can be used to build more complex `if` statements based on multiple expressions. The `and` operator is used to specify that multiple conditions must be satisfied.\n",
    "\n",
    "<div class=\"run\">\n",
    "    ▶️ <b> Run the cell below. </b>\n",
    "</div>"
   ]
  },
  {
   "cell_type": "code",
   "execution_count": 6,
   "metadata": {},
   "outputs": [
    {
     "name": "stdout",
     "output_type": "stream",
     "text": [
      "Lysine is an essential, non-aromatic amino acid.\n"
     ]
    }
   ],
   "source": [
    "essential = ['histidine', 'lysine', 'threonine', 'tryptophan', \n",
    "             'valine', 'methionine', 'leucine', 'phenylalanine']\n",
    "aromatic = ['phenylalanine', 'tryptophan', 'tyrosine']\n",
    "\n",
    "aa = 'lysine'\n",
    "\n",
    "if aa in aromatic and aa in essential:\n",
    "    print(aa.capitalize() + ' is an essential, aromatic amino acid.')\n",
    "elif aa in essential:\n",
    "    print(aa.capitalize() + ' is an essential, non-aromatic amino acid.')\n",
    "elif aa in aminoacids:\n",
    "    print(aa.capitalize() + 'is a non-essential amino acid.')\n",
    "else:\n",
    "    print(aa.capitalize() + ' is not an amino acid.')"
   ]
  },
  {
   "cell_type": "markdown",
   "metadata": {},
   "source": [
    "The `or` operator is used to write an `if` statement where one of multiple conditions must be met.\n",
    "\n",
    "<div class=\"run\">\n",
    "    ▶️ <b> Run the cell below. </b>\n",
    "</div>"
   ]
  },
  {
   "cell_type": "code",
   "execution_count": 7,
   "metadata": {},
   "outputs": [
    {
     "name": "stdout",
     "output_type": "stream",
     "text": [
      "Lysine is a polar amino acid.\n"
     ]
    }
   ],
   "source": [
    "charged = ['arginine', 'lysine', 'aspartate', 'glutamate']\n",
    "polar_un = ['glutamine', 'asparagine', 'histidine', 'serine', 'threonine', 'tyrosine', 'cysteine']\n",
    "\n",
    "if aa in charged or polar_un:\n",
    "    print(aa.capitalize() + ' is a polar amino acid.')\n",
    "elif aa in aminoacids:\n",
    "    print(aa.capitalize() + ' is a non-polar amino acid.')\n",
    "else:\n",
    "    print(aa.capitalize() + ' is not an amino acid.')"
   ]
  },
  {
   "cell_type": "markdown",
   "metadata": {},
   "source": [
    "<h4 style=\"border:1px; border-style:solid; border-color:black; padding: 0.5em;\"> <span style=\"color:black\"> Nested <code>if</code> statements </span> </h4>\n",
    "\n",
    "`if` statements can build on one another to perform specific actions based on each condition by **nesting** `if` statements. For example, the previous cell could be re-written as follows:\n",
    "\n",
    "```python\n",
    "if aa in aminoacids:\n",
    "    if aa in charged or polar_un:\n",
    "        print(aa.capitalize() + ' is a polar amino acid.')\n",
    "    else:\n",
    "        print(aa.capitalize() + ' is a non-polar amino acid.')\n",
    "else:\n",
    "    print(aa.capitalize() + ' is not an amino acid.')    \n",
    "```\n",
    "\n",
    "While this is a trivial example, nested `if` statements can be quite useful when inside a program as they allow the program to skip to the end if the first condition is not satisfied.\n",
    "\n",
    "<div class=\"practice\">\n",
    "    📚  <b> Practice 2. </b> \n",
    "    Using nested <code>if</code> statements and your code from Practice question #1, convert the user input temperature to the opposite units (°F to °C or vice versa), print a statement to the user that reports the temperature in the converted units and indicates whether or not the temperature below freezing. Your print statement should look something like, <code>The temperature is __°C/F. It is (not) below freezing.</code>\n",
    "</div>\n",
    "\n"
   ]
  },
  {
   "cell_type": "code",
   "execution_count": 11,
   "metadata": {},
   "outputs": [
    {
     "name": "stdout",
     "output_type": "stream",
     "text": [
      "Temperature: 40\n",
      "Temperature units (F or C): C\n",
      "The temperature is 104°F. It is not below freezing.\n"
     ]
    }
   ],
   "source": [
    "# User input variables\n",
    "temp_in = float(input(\"Temperature: \"))\n",
    "units_in = input(\"Temperature units (F or C): \")\n",
    "\n",
    "# Convert temperature units\n",
    "if units_in == 'F':\n",
    "    temp = (temp_in - 32) * (5/9)\n",
    "    if temp < 0:\n",
    "        print(\"The temperature is %d°C. It is below freezing.\" % (temp))\n",
    "    elif temp == 0:\n",
    "        print(\"The temperature is %d°C. It is freezing.\" % (temp))\n",
    "    else:\n",
    "        print(\"The temperature is %d°C. It is not below freezing.\" % (temp))\n",
    "else:\n",
    "    temp = (temp_in * (9/5)) + 32\n",
    "    if temp < 32:\n",
    "        print(\"The temperature is %d°F. It is below freezing.\" % (temp))\n",
    "    elif temp == 32:\n",
    "        print(\"The temperature is %d°F. It is freezing.\" % (temp))\n",
    "    else:\n",
    "        print(\"The temperature is %d°F. It is not below freezing.\" % (temp))"
   ]
  },
  {
   "cell_type": "markdown",
   "metadata": {},
   "source": [
    "## Loops\n",
    "\n",
    "<hr style=\"border-top: 0.2px solid gray; margin-top: 12px; margin-bottom: 1px\"></hr>\n",
    "\n",
    "### `for` loops\n",
    "`for` loops are the most commonly used type of loop and are extremely useful. `for` loops are used to iterate or loop through any object capable of returning its members one at time, i.e. an iterable object. \n",
    "\n",
    "<div class=\"python\">\n",
    "    🐍 <b>Note.</b>  The <b>iterator</b> in a <code>for</code> loop is a temporary variable used to store each value in the iterable object. The iterator is defined in the <code>for</code> loop syntax as follows:\n",
    "\n",
    "```python\n",
    "for <ITERATOR> in <ITERABLE>:\n",
    "    do something to iterator\n",
    "```   \n",
    "\n",
    "The name of the iterator should reflect the nature of the list. <code>i</code> is commonly used as an enumerator or counter variable and should be avoided for other uses.\n",
    "    \n",
    "</div>"
   ]
  },
  {
   "cell_type": "markdown",
   "metadata": {},
   "source": [
    "A generic counter `for` loop can be generated using the `range()` function. \n",
    "\n",
    "```python\n",
    "for i in range(4):\n",
    "    print(i + 1)\n",
    "    \n",
    ">>> 1\n",
    "    2\n",
    "    3\n",
    "    4\n",
    "```\n",
    "\n",
    "\n",
    "`for` loops are commonly used to iterate through lists. As with the generic `range()` `for` loop, the iterator is assigned the next value from the list at the end of the indented code block.\n",
    "\n",
    "```python\n",
    "for aa in aminoacids:\n",
    "    print(aa)\n",
    "    \n",
    ">>> histidine\n",
    "    isoleucine\n",
    "    leucine\n",
    "    lysine\n",
    "    methionine\n",
    "    phenylalanine\n",
    "    threonine\n",
    "    tryptophan\n",
    "    valine\n",
    "    alanine\n",
    "    arginine\n",
    "    asparagine\n",
    "    aspartate\n",
    "    cysteine\n",
    "    glutamate\n",
    "    glutamine\n",
    "    glycine\n",
    "    proline\n",
    "    serine\n",
    "    tyrosine\n",
    "```\n",
    "\n",
    "<div class=\"practice\">\n",
    "    📚  <b> Practice 3. </b> \n",
    "    Generate a list called <code>org_elements</code> containing the names of the six most abundant elements comprising organic molecules. Sort the list in alphabetical order (in place) and write a <code>for</code> loop that prints each element in <code>org_elements</code>.\n",
    "</div>"
   ]
  },
  {
   "cell_type": "code",
   "execution_count": 13,
   "metadata": {},
   "outputs": [
    {
     "name": "stdout",
     "output_type": "stream",
     "text": [
      "carbon\n",
      "hydrogen\n",
      "nitrogen\n",
      "oxygen\n",
      "phosphorous\n",
      "sulfur\n"
     ]
    }
   ],
   "source": [
    "# Define org_elements\n",
    "org_elements = ['carbon', 'oxygen', 'hydrogen','phosphorous', 'sulfur','nitrogen']\n",
    "\n",
    "org_elements.sort()\n",
    "\n",
    "# Print each element in org_elements\n",
    "for element in org_elements:\n",
    "    print(element)"
   ]
  },
  {
   "cell_type": "markdown",
   "metadata": {},
   "source": [
    "<h4 style=\"border:1px; border-style:solid; border-color:black; padding: 0.5em;\"> <span style=\"color:black\"> Built-in functions </span> </h4>\n",
    "\n",
    "The `enumerate()` function can be used in a `for` loop to keep track of the index of the iterator. This can be useful for keeping track of the number of iterations completed, accessing other elements in the same list based on their relative index (e.g. the value immediately following the current iterator value), or accessing elements in another list based on the iterator's index.\n",
    "\n",
    "```python\n",
    "gases = ['N2', 'O2', 'Ar', 'H2O', 'CO2']\n",
    "\n",
    "for i,gas in enumerate(gases):\n",
    "    rank = i + 1\n",
    "    print('The #%d most abundant gas in the atmosphere is %s.' %(rank,gas))\n",
    "```\n",
    "<p style=\"font-family: Lucida Console, Courier, monospace; margin-left: 22pt; margin-top: 0pt; margin-bottom: -1pt\"> <span style=\"color: #A514F6; font-weight: bold\"> >>> </span> The #1 most abundant gas in the atmosphere is N2.</p> \n",
    "<p style=\"font-family: Lucida Console, Courier, monospace; margin-left: 48pt; margin-top: 0pt; margin-bottom: -1pt\"> The #2 most abundant gas in the atmosphere is O2.</p> \n",
    "<p style=\"font-family: Lucida Console, Courier, monospace; margin-left: 48pt; margin-top: 0pt; margin-bottom: -1pt\"> The #3 most abundant gas in the atmosphere is Ar.</p> \n",
    "<p style=\"font-family: Lucida Console, Courier, monospace; margin-left: 48pt; margin-top: 0pt; margin-bottom: -1pt\"> The #4 most abundant gas in the atmosphere is H2O.</p> \n",
    "<p style=\"font-family: Lucida Console, Courier, monospace; margin-left: 48pt; margin-top: 0pt; margin-bottom: 12pt\"> The #5 most abundant gas in the atmosphere is CO2.</p> \n",
    "\n",
    "<div class=\"example\">\n",
    "✏️ Try it.\n",
    "    Given your sorted <code>org_elements</code> list and the corresponding list of atomic masses given in the cell below, use <code>enumerate()</code> in a <code>for</code> loop to print a formatted statement that expresses the atomic mass of of each element. Your formatted print statement should include the name of the element, the atomic mass rounded to 2 decimal places, and units.\n",
    "</div>"
   ]
  },
  {
   "cell_type": "code",
   "execution_count": 16,
   "metadata": {},
   "outputs": [
    {
     "name": "stdout",
     "output_type": "stream",
     "text": [
      "The atomic mass of carbon is 12.01 g/mol.\n",
      "The atomic mass of hydrogen is 1.01 g/mol.\n",
      "The atomic mass of nitrogen is 14.01 g/mol.\n",
      "The atomic mass of oxygen is 16.00 g/mol.\n",
      "The atomic mass of phosphorous is 30.97 g/mol.\n",
      "The atomic mass of sulfur is 32.06 g/mol.\n"
     ]
    }
   ],
   "source": [
    "# Define list of atomic masses of 6 most abundant elements\n",
    "atomic_mass = [12.011, 1.00784, 14.0067, 15.999, 30.97376, 32.065]  # g/mol\n",
    "\n",
    "# Iterate through org_elements + print the atomic mass of each element\n",
    "for i,element in enumerate(org_elements):\n",
    "    mass = atomic_mass[i]\n",
    "    print('The atomic mass of %s is %.2f g/mol.' % (element,mass))"
   ]
  },
  {
   "cell_type": "markdown",
   "metadata": {},
   "source": [
    "To iterate through multiple lists at the same time without indexing, use the `zip()` function.\n",
    "\n",
    "```python\n",
    "gas_frac = [0.78084, 0.209476, 0.00934, 0.0025, 0.000314]\n",
    "gas_molar_mass = [14.0067, 15.999, 39.948, 18.01528, 44.01]\n",
    "\n",
    "mass_atmosphere = 5.148e21   # grams\n",
    "n_a = 6.022e23    # Avogadro's number\n",
    "\n",
    "for frac,mol_mass in zip(gas_frac,gas_molar_mass):\n",
    "    mass = frac * mass_atmosphere\n",
    "    molecules = (mass / mol_mass ) * n_a\n",
    "    print(molecules)\n",
    "\n",
    ">>> 1.7282458205744395e+44\n",
    "    4.0590156271366957e+43\n",
    "    7.248215956743767e+41\n",
    "    4.302078013774973e+41\n",
    "    2.211859664621677e+40\n",
    "\n",
    "```\n",
    "\n",
    "The `zip()` function is nearly always used when each element of one list corresponds to an element in the same index position in another list. Therefore, it should mostly be used with two or more lists of the same length. If the lists do not have the same length, however, the number of iterations of the `for` loop will match the length of the shortest list.\n",
    "\n",
    "<div class=\"example\">\n",
    "✏️ Try it.\n",
    "    As in the previous example, print the atomic masses of each of the six most abundant elements in formatted print statements, this time using <code>zip()</code> to iterate through both <code>org_elements</code> and <code>atomic_mass</code> at the same time\n",
    "</div>"
   ]
  },
  {
   "cell_type": "code",
   "execution_count": 17,
   "metadata": {},
   "outputs": [
    {
     "name": "stdout",
     "output_type": "stream",
     "text": [
      "The atomic mass of carbon is 12.01 g/mol.\n",
      "The atomic mass of hydrogen is 1.01 g/mol.\n",
      "The atomic mass of nitrogen is 14.01 g/mol.\n",
      "The atomic mass of oxygen is 16.00 g/mol.\n",
      "The atomic mass of phosphorous is 30.97 g/mol.\n",
      "The atomic mass of sulfur is 32.06 g/mol.\n"
     ]
    }
   ],
   "source": [
    "for element,mass in zip(org_elements,atomic_mass):\n",
    "    print('The atomic mass of %s is %.2f g/mol.' % (element,mass))"
   ]
  },
  {
   "cell_type": "markdown",
   "metadata": {},
   "source": [
    "The `enumerate()` and `zip()` functions can also be used together, if necessary, to keep track of the index position of iterators.\n",
    "\n",
    "\n",
    "\n",
    "\n",
    "```python\n",
    "for i,(frac,mol_mass) in enumerate(zip(gas_frac,gas_molar_mass)):\n",
    "    gas = gases[i]\n",
    "    mass = frac * mass_atmosphere\n",
    "    molecules = (mass / mol_mass ) * n_a\n",
    "    print('There are ' + '{:.2e}'.format(molecules) + ' molecules of %s in the atmosphere.' % (gas))\n",
    "```\n",
    "<p style=\"font-family: Lucida Console, Courier, monospace; margin-left: 22pt; margin-top: 0pt; margin-bottom: -1pt\"> <span style=\"color: #A514F6; font-weight: bold\"> >>> </span> There are 1.73e+44 molecules of N2 in the atmosphere.</p> \n",
    "<p style=\"font-family: Lucida Console, Courier, monospace; margin-left: 48pt; margin-top: 0pt; margin-bottom: -1pt\"> There are 4.06e+43 molecules of O2 in the atmosphere.</p> \n",
    "<p style=\"font-family: Lucida Console, Courier, monospace; margin-left: 48pt; margin-top: 0pt; margin-bottom: -1pt\"> There are 7.25e+41 molecules of Ar in the atmosphere.</p> \n",
    "<p style=\"font-family: Lucida Console, Courier, monospace; margin-left: 48pt; margin-top: 0pt; margin-bottom: -1pt\"> There are 4.30e+41 molecules of H2O in the atmosphere.</p> \n",
    "<p style=\"font-family: Lucida Console, Courier, monospace; margin-left: 48pt; margin-top: 0pt; margin-bottom: 12pt\"> There are 2.21e+40 molecules of CO2 in the atmosphere.</p> \n",
    "\n",
    "<h4 style=\"border:1px; border-style:solid; border-color:black; padding: 0.5em;\"> <span style=\"color:black\"> Nested <code>for</code> loops </span> </h4>\n",
    "\n",
    "Like `if` statements, `for` loops can be nested to perform an operation multiple times for each iterator in the overall loop.\n",
    "\n",
    "```python\n",
    "for aa in aminoacids:\n",
    "    vowels = 0\n",
    "    for letter in aa:\n",
    "        if letter in ['a', 'e', 'i', 'o', 'u']:\n",
    "            vowels = vowels + 1\n",
    "    print(aa.capitalize() + ' has ' + str(vowels) + ' vowels.')\n",
    "    \n",
    ">>> Histidine has 4 vowels.\n",
    "    Isoleucine has 6 vowels.\n",
    "    Leucine has 4 vowels.\n",
    "    Lysine has 2 vowels.\n",
    "    Methionine has 5 vowels.\n",
    "    Phenylalanine has 5 vowels.\n",
    "    Threonine has 4 vowels.\n",
    "    Tryptophan has 2 vowels.\n",
    "    Valine has 3 vowels.\n",
    "    Alanine has 4 vowels.\n",
    "    Arginine has 4 vowels.\n",
    "    Asparagine has 5 vowels.\n",
    "    Aspartate has 4 vowels.\n",
    "    Cysteine has 3 vowels.\n",
    "    Glutamate has 4 vowels.\n",
    "    Glutamine has 4 vowels.\n",
    "    Glycine has 2 vowels.\n",
    "    Proline has 3 vowels.\n",
    "    Serine has 3 vowels.\n",
    "    Tyrosine has 3 vowels.\n",
    "```"
   ]
  },
  {
   "cell_type": "markdown",
   "metadata": {},
   "source": [
    "<div class=\"practice\">\n",
    "    📚  <b> Practice 4. </b> \n",
    "    The cell below contains four lists containing monthly global land-ocean surface temperature in °F for 2015, 2016, 2017, and 2018. Using  <code>enumerate()</code>, <code>zip()</code>, a nested <code>for</code> loop, or some combination of the three:\n",
    "    \n",
    "<ol class=\"alpha\">\n",
    "    <li> Calculate the monthly global land-ocean surface temperature anomalies (deviation from the mean) in °C for 2015-2018. The mean global land-ocean surface temperature calculated over the 20th century was 15.6°C.</li>\n",
    "    <li> Create a new list with the mean monthly global surface temperature anomalies in °C for 2015-2018 (i.e. calculate the mean temperature anomaly for each month and put these values in a list). Use the command <code>np.mean()</code> to calculate mean values. </li> \n",
    "    <li> Print each monthly mean value with the name of the month and units. </li>\n",
    "</ol>\n",
    "</div>"
   ]
  },
  {
   "cell_type": "code",
   "execution_count": 64,
   "metadata": {},
   "outputs": [
    {
     "name": "stdout",
     "output_type": "stream",
     "text": [
      "Practice 4a\n",
      "Monthly temperatures in °C, 2015:\n",
      "[16.41, 16.47, 16.5, 16.35, 16.35, 16.39, 16.31, 16.39, 16.42, 16.67, 16.63, 16.7]\n",
      "Monthly temperature anomalies in °C, 2015:\n",
      "[0.81, 0.87, 0.9, 0.75, 0.75, 0.79, 0.71, 0.79, 0.82, 1.07, 1.03, 1.1]\n",
      "Monthly temperatures in °C, 2016:\n",
      "[16.75, 16.95, 16.91, 16.67, 16.51, 16.37, 16.42, 16.6, 16.48, 16.5, 16.51, 16.43]\n",
      "Monthly temperature anomalies in °C, 2016:\n",
      "[1.15, 1.35, 1.31, 1.07, 0.91, 0.77, 0.82, 1.0, 0.88, 0.9, 0.91, 0.83]\n",
      "Monthly temperatures in °C, 2017:\n",
      "[16.58, 16.73, 16.73, 16.52, 16.49, 16.3, 16.42, 16.47, 16.36, 16.48, 16.46, 16.49]\n",
      "Monthly temperature anomalies in °C, 2017:\n",
      "[0.98, 1.13, 1.13, 0.92, 0.89, 0.7, 0.82, 0.87, 0.76, 0.88, 0.86, 0.89]\n",
      "Monthly temperatures in °C, 2018:\n",
      "[16.37, 16.45, 16.51, 16.47, 16.41, 16.34, 16.38, 16.33, 16.36, 16.59, 16.38, 16.49]\n",
      "Monthly temperature anomalies in °C, 2018:\n",
      "[0.77, 0.85, 0.91, 0.87, 0.81, 0.74, 0.78, 0.73, 0.76, 0.99, 0.78, 0.89]\n",
      "Practice 4b\n",
      "[0.9275, 1.05, 1.0625, 0.9025, 0.84, 0.75, 0.7825, 0.8475, 0.805, 0.96, 0.895, 0.9275]\n",
      "[0.9275, 1.05, 1.0625, 0.9025, 0.84, 0.75, 0.7825, 0.8475, 0.805, 0.96, 0.895, 0.9275]\n",
      "Practice 4c\n",
      "Mean January temperature anomaly, 2015-2018: 0.9275°C\n",
      "Mean February temperature anomaly, 2015-2018: 1.0500°C\n",
      "Mean March temperature anomaly, 2015-2018: 1.0625°C\n",
      "Mean April temperature anomaly, 2015-2018: 0.9025°C\n",
      "Mean May temperature anomaly, 2015-2018: 0.8400°C\n",
      "Mean June temperature anomaly, 2015-2018: 0.7500°C\n",
      "Mean July temperature anomaly, 2015-2018: 0.7825°C\n",
      "Mean August temperature anomaly, 2015-2018: 0.8475°C\n",
      "Mean September temperature anomaly, 2015-2018: 0.8050°C\n",
      "Mean October temperature anomaly, 2015-2018: 0.9600°C\n",
      "Mean November temperature anomaly, 2015-2018: 0.8950°C\n",
      "Mean December temperature anomaly, 2015-2018: 0.9275°C\n"
     ]
    }
   ],
   "source": [
    "# Import numpy for mean calculations\n",
    "import numpy as np\n",
    "\n",
    "# Lists of monthly global surface temperature in °F\n",
    "tempF_2015 = [61.538, 61.646, 61.7, 61.43, 61.43, 61.502, 61.358, 61.502, 61.556, 62.006, 61.934, 62.06]\n",
    "tempF_2016 = [62.15, 62.51, 62.438, 62.006, 61.718, 61.466, 61.556, 61.88, 61.664, 61.7, 61.718, 61.574]\n",
    "tempF_2017 = [61.844, 62.114, 62.114, 61.736, 61.682, 61.34, 61.556, 61.646, 61.448, 61.664, 61.628, 61.682]\n",
    "tempF_2018 = [61.466, 61.61, 61.718, 61.646, 61.538, 61.412, 61.484, 61.394, 61.448, 61.862, 61.484, 61.682]\n",
    "\n",
    "# List of yearly lists (may or may not be useful)\n",
    "tempF_list = [tempF_2015, tempF_2016, tempF_2017, tempF_2018]\n",
    "# List of years\n",
    "years = [2015, 2016, 2017, 2018]\n",
    "\n",
    "# 4a. Monthly temperature anomalies\n",
    "print('Practice 4a')\n",
    "# Empty list of lists\n",
    "tempC_list = []\n",
    "anomC_list = []\n",
    "# Iterate through yearly lists\n",
    "for tempsF,year in zip(tempF_list,years):\n",
    "    # Empty list for a single year\n",
    "    tempsC = []\n",
    "    anomsC = []\n",
    "    # Iterate through a single year\n",
    "    for tempF in tempsF:\n",
    "        # Convert temp from F to C\n",
    "        tempC = (tempF - 32.0) * (5/9)\n",
    "        # Append to tempsC\n",
    "        tempsC.append(round(tempC,2))\n",
    "        # Calculate temp anomaly in °C\n",
    "        anomC = tempC - 15.6\n",
    "        # Append to anomsC\n",
    "        anomsC.append(round(anomC,2))\n",
    "    # Print list of temps and anomalies in °C to check\n",
    "    print('Monthly temperatures in °C, %d:' % (year))\n",
    "    print(tempsC)\n",
    "    print('Monthly temperature anomalies in °C, %d:' % (year))\n",
    "    print(anomsC)\n",
    "    # Add list of °C temps to tempC_list (list of lists)\n",
    "    tempC_list.append(tempsC)\n",
    "    # Add list of anomalies in °C to anomC_list (list of lists)\n",
    "    anomC_list.append(anomsC)\n",
    "    \n",
    "tempC_list[:][0]\n",
    "\n",
    "# 4b. Mean monthly temperature anomaly, 2015-2018\n",
    "print('Practice 4b')\n",
    "# Empty list for monthly mean temperature anomalies\n",
    "monthly_means = []\n",
    "# Set up generic counter loop with 12 iterations\n",
    "for i in range(12):\n",
    "    # Generate list of temperature anomalies for each month by extracting the ith value from each sublist.\n",
    "    # This creates a list of 4 values: \n",
    "    #       [T_anom for month i of 2015, T_anom for month i of 2016, \n",
    "    #        T_anom for month i of 2017, T_anom for month i of 2018]\n",
    "    monthly = [anom[i] for anom in anomC_list]\n",
    "    # Calculate mean for month i\n",
    "    monthly_mean = np.mean(monthly)\n",
    "    # Add mean for month i to list of means\n",
    "    monthly_means.append(round(monthly_mean,4))\n",
    "# Print list of mean monthly temperature anomalies, 2015-2018.\n",
    "print(monthly_means)\n",
    "\n",
    "# Alternative:\n",
    "monthly_means = []\n",
    "for anomC_15,anomC_16,anomC_17,anomC_18 in zip(*anomC_list):\n",
    "# Note: * is an \"unpacking\" operator that extracts each sublist of anomC_list making them iterables.\n",
    "# for i,(anomC_15,anomC_16,anomC_17,anomC_18) in enumerate(zip(anomC_list[0],\n",
    "#                                                              anomC_list[1],\n",
    "#                                                              anomC_list[2],\n",
    "#                                                              anomC_list[3])):\n",
    "    # Put month i values in a list\n",
    "    monthly = [anomC_15, anomC_16, anomC_17, anomC_18]\n",
    "    # Calculate mean for month i\n",
    "    monthly_mean = np.mean(monthly)\n",
    "    # Add mean for month i to list of means\n",
    "    monthly_means.append(round(monthly_mean,4))\n",
    "# Print list of mean monthly temperature anomalies, 2015-2018.\n",
    "print(monthly_means)\n",
    "\n",
    "\n",
    "# 4c. Print mean temperature anomalies by month\n",
    "print('Practice 4c')\n",
    "\n",
    "months = ['January', 'February', 'March', 'April', 'May', 'June', \n",
    "          'July', 'August', 'September', 'October', 'November', 'December']\n",
    "\n",
    "for month,mean in zip(months,monthly_means):\n",
    "    print('Mean %s temperature anomaly, 2015-2018: %.4f°C' % (month,mean))\n"
   ]
  },
  {
   "cell_type": "markdown",
   "metadata": {},
   "source": [
    "\n",
    "<hr style=\"border-top: 0.2px solid gray; margin-top: 12px; margin-bottom: 1px\"></hr>\n",
    "\n",
    "### `while` loops\n",
    "`while` loops are used to repeatedly execute a block of code while a given condition is satisfied. The indented code block will be contiuously executed until the condition becomes `False`.\n",
    "\n",
    "```python\n",
    "x = 0\n",
    "while x < 4:\n",
    "    x = x + 1\n",
    "    print(x)\n",
    ">>> 1\n",
    "    2\n",
    "    3\n",
    "    4\n",
    "```\n",
    "\n",
    "`while` loops are often used for user input, which allows the program to \"stall,\" repeatedly prompting the user until an acceptable answer is input.\n",
    "\n",
    "<div class=\"example\">\n",
    "✏️ Try it.\n",
    "    Run the following cell to see how a <code>while</code> loop works, inputing various answers that do not satisfy the condition before inputing the value that will end the loop.\n",
    "</div>"
   ]
  },
  {
   "cell_type": "code",
   "execution_count": 18,
   "metadata": {},
   "outputs": [
    {
     "name": "stdout",
     "output_type": "stream",
     "text": [
      "What is the answer to life, the universe, and everything? water\n",
      "What is the answer to life, the universe, and everything? 0\n",
      "What is the answer to life, the universe, and everything? 42\n"
     ]
    }
   ],
   "source": [
    "# Define a blank string variable\n",
    "user_txt = \"\"\n",
    "# Wait for a specific answer, repeatedly asking for input until the condition is satisfied.\n",
    "while user_txt != \"42\":\n",
    "    user_txt = input(\"What is the answer to life, the universe, and everything? \")"
   ]
  },
  {
   "cell_type": "markdown",
   "metadata": {},
   "source": [
    "<div class=\"python\">\n",
    "    🐍 <b>Note.</b> <code>while</code> loops can be infinite, so they should be used very judiciously. For example, imagine if instead of <code>x = x + 1</code> in the previous example, the code block executed in the <code>while</code> loop were <code>x = x - 1</code>:\n",
    "    \n",
    "```python\n",
    "x = 0\n",
    "while x < 4:\n",
    "    x = x - 1\n",
    "    print(x)\n",
    ">>> -1\n",
    "    -2\n",
    "    -3\n",
    "    -4\n",
    "    -5\n",
    "    -6\n",
    "    ... # and so on\n",
    "```\n",
    "This loop would never stop executing because the condition can never be met.\n",
    "    \n",
    "</div>"
   ]
  },
  {
   "cell_type": "markdown",
   "metadata": {},
   "source": [
    "\n",
    "<hr style=\"border-top: 0.2px solid gray; margin-top: 12px; margin-bottom: 1px\"></hr>\n",
    "\n",
    "### Escaping loops\n",
    "Sometimes it is necessary to terminate a loop iteration or the loop itself. The `break` and `continue` statements are used to escape loops.\n",
    "\n",
    "`break` statements in Python are used to escape an entire loop based on a condition. In nested loops, a break will only exit out of one level.\n",
    "\n",
    "![break_chart](../assets/break_chart.jpg)\n",
    "\n",
    "<div class=\"run\">\n",
    "    ▶️ <b> Run the cell below. </b>\n",
    "</div>"
   ]
  },
  {
   "cell_type": "code",
   "execution_count": 19,
   "metadata": {},
   "outputs": [
    {
     "name": "stdout",
     "output_type": "stream",
     "text": [
      "What is the answer to life, the universe, and everything? \n",
      "   Your answer: 77\n",
      "Nope. Try again...\n",
      "\n",
      "What is the answer to life, the universe, and everything? \n",
      "   Your answer: Happiness\n",
      "Nope. Try again...\n",
      "\n",
      "What is the answer to life, the universe, and everything? \n",
      "   Your answer: 42\n",
      "You have solved the ultimate question.\n"
     ]
    }
   ],
   "source": [
    "while True:\n",
    "    print(\"What is the answer to life, the universe, and everything? \")\n",
    "    option = input(\"   Your answer: \")\n",
    "    if option.isdigit():\n",
    "        if int(option) == 42:\n",
    "            print('You have solved the ultimate question.')\n",
    "            break\n",
    "        else:\n",
    "            print(\"Nope. Try again...\\n\")\n",
    "    else:\n",
    "        print(\"Nope. Try again...\\n\")"
   ]
  },
  {
   "cell_type": "markdown",
   "metadata": {},
   "source": [
    "`continue` statements are used to skip the remainder of the loop for a given iteration. \n",
    "\n",
    "![continue_chart](../assets/continue_chart.jpg)\n",
    "\n",
    "<div class=\"run\">\n",
    "    ▶️ <b> Run the cell below. </b>\n",
    "</div>"
   ]
  },
  {
   "cell_type": "code",
   "execution_count": 20,
   "metadata": {},
   "outputs": [
    {
     "name": "stdout",
     "output_type": "stream",
     "text": [
      "23.5\n",
      "11.2671\n",
      "0.0\n",
      "36052.0\n",
      "-466.07\n",
      "3.0\n",
      "-11.5\n"
     ]
    }
   ],
   "source": [
    "for x in [47, 22.5342, 'four hundred eighty-two', 0, 72104, -932.14, 6, -23, 'eleven']:\n",
    "    # Check to see if value is a string\n",
    "    if type(x) == str:\n",
    "        # If so, skip to next iteration\n",
    "        continue\n",
    "    # Otherwise, divide by 2 and print\n",
    "    print(x/2)"
   ]
  },
  {
   "cell_type": "markdown",
   "metadata": {},
   "source": [
    "\n",
    "<hr style=\"border-top: 0.2px solid gray; margin-top: 12px; margin-bottom: 1px\"></hr>\n",
    "\n",
    "### List comprehensions\n",
    "A list comprehension is a quick, concise way to generate a list. They are generally used to condense the generation of a list from a simple expression into one line of code. \n",
    "\n",
    "For example, say you wanted a list of all the squares from 0 and 100. As we learned in Exercise 1.2, this could be accomplished as follows:\n",
    "```python\n",
    "squares = []\n",
    "\n",
    "for x in range(11):\n",
    "    squares.append(x**2)\n",
    "\n",
    "print(squares)\n",
    ">>> squares = [0, 1, 4, 9, 16, 25, 36, 49, 64, 81, 100]\n",
    "```\n",
    "\n",
    "Using a list comprehension, the same list could be generated in a single line of code as follows:\n",
    "```python\n",
    "squares = [x**2 for x in range(11)]\n",
    "\n",
    "print(squares)\n",
    ">>> squares = [0, 1, 4, 9, 16, 25, 36, 49, 64, 81, 100]\n",
    "```\n",
    "\n",
    "List comprehensions are often combined with `if` statements. For example, the following line of code creates a list of all even numbers from 0 to 100.\n",
    "```python\n",
    "evens = [x for x in range(101) if x%2 == 0]\n",
    "\n",
    "print(evens)\n",
    ">>> evens = [0, 2, 4, 6, 8, 10, 12, 14, 16, 18, 20, \n",
    "             22, 24, 26, 28, 30, 32, 34, 36, 38, 40,\n",
    "             42, 44, 46, 48, 50, 52, 54, 56, 58, 60, \n",
    "             62, 64, 66, 68, 70, 72, 74, 76, 78, 80, \n",
    "             82, 84, 86, 88, 90, 92, 94, 96, 98]\n",
    "```\n",
    "\n",
    "<div class=\"practice\">\n",
    "    📚  <b> Practice 5. </b> \n",
    "    Use a list comprehension to generate a list of all even squares from 0 to 1000.\n",
    "</div>"
   ]
  },
  {
   "cell_type": "code",
   "execution_count": 23,
   "metadata": {},
   "outputs": [
    {
     "name": "stdout",
     "output_type": "stream",
     "text": [
      "[0, 4, 16, 36, 64, 100, 144, 196, 256, 324, 400, 484, 576, 676, 784, 900, 1024, 1156, 1296, 1444, 1600, 1764, 1936, 2116, 2304, 2500, 2704, 2916, 3136, 3364, 3600, 3844, 4096, 4356, 4624, 4900, 5184, 5476, 5776, 6084, 6400, 6724, 7056, 7396, 7744, 8100, 8464, 8836, 9216, 9604, 10000]\n"
     ]
    }
   ],
   "source": [
    "evensquares = [x**2 for x in range(101) if (x**2)%2 == 0]\n",
    "print(evensquares)"
   ]
  },
  {
   "cell_type": "markdown",
   "metadata": {},
   "source": [
    "<hr style=\"border-top: 1px solid gray; margin-top: 24px; margin-bottom: 1px\"></hr>"
   ]
  },
  {
   "cell_type": "code",
   "execution_count": 1,
   "metadata": {},
   "outputs": [
    {
     "data": {
      "text/html": [
       "<style>\n",
       "    div.run { \n",
       "        border: 0.5px solid #008C96; \n",
       "        padding: 10px; \n",
       "        background-color: #b2dcdf; \n",
       "        color:#006269; \n",
       "        margin-top: 12px; \n",
       "        font-weight: bold\n",
       "    }\n",
       "    div.example { \n",
       "        border: 0.5px solid #008C96; \n",
       "        padding: 10px; \n",
       "        background-color: #b2dcdf; \n",
       "        color:#006269; \n",
       "        margin-top: 12px;\n",
       "        font-weight: bold\n",
       "    }\n",
       "    div.practice { \n",
       "        border: 0.5px solid #008C96;  \n",
       "        padding: 10px;  \n",
       "        background-color: #b2dcdf;  \n",
       "        color:#006269; \n",
       "        margin-top: 12px;\n",
       "        font-weight: bold\n",
       "    }\n",
       "    div.python { \n",
       "        border: 0.5px solid #408000; \n",
       "        padding: 10px; \n",
       "        background-color: #cddfb4; \n",
       "        color:#2c5900; \n",
       "        margin-top: 12px\n",
       "    }\n",
       "    div.codeblock { \n",
       "        border: 0.2px solid #808080;\n",
       "        padding: 10px; \n",
       "        background-color: #DBDBDB; \n",
       "        margin-top: 2px\n",
       "    }   \n",
       "    div.boxhead1 { \n",
       "        border-radius: 4px 4px 0px 0px; \n",
       "        padding: 6px; \n",
       "        border: 0.5px solid #008C96; \n",
       "        background-color: #b2dcdf; \n",
       "        color:#006269; \n",
       "        margin-top: 12px; \n",
       "        font-size: 115%; \n",
       "        font-weight: bold\n",
       "    }\n",
       "    div.boxtext1 { \n",
       "        border-radius: 0px 0px 4px 4px; \n",
       "        border: 0.5px solid #008C96; \n",
       "        padding: 12pt; \n",
       "        color:#006269 \n",
       "    }\n",
       "    div.boxhead2 {\n",
       "        border-radius: 4px 4px 0px 0px; \n",
       "        padding: 6px; border: 0.5px solid #73AD21; \n",
       "        background-color: #c7dea6; \n",
       "        color:#486d15; \n",
       "        margin-top: 12px; \n",
       "        font-size: 115%; \n",
       "        font-weight: bold\n",
       "    }\n",
       "    div.boxtext2 { \n",
       "        border-radius: 0px 0px 4px 4px; \n",
       "        border: 0.5px solid #73AD21; \n",
       "        padding: 12pt; \n",
       "        color:#486d15\n",
       "    }\n",
       "    ol.num {\n",
       "        margin: 0pt;\n",
       "        margin-top: 12pt; \n",
       "        margin-bottom: 2pt; \n",
       "        margin-left: 4pt; \n",
       "        padding-bottom: 4pt; \n",
       "    }\n",
       "    ol.alpha {\n",
       "        list-style-type: lower-alpha;\n",
       "        margin: 0pt;\n",
       "        margin-left: 4pt;\n",
       "        margin-top: 2pt;\n",
       "        font-weight: bold\n",
       "    }\n",
       "    ul.a {\n",
       "        list-style-type: none; \n",
       "        margin-left: -20pt;\n",
       "        font-weight: bold;\n",
       "    }\n",
       "\n",
       "    ul.b {\n",
       "        list-style-type: square; \n",
       "        font-weight: normal; \n",
       "        margin-left: 20pt; \n",
       "        margin-top: 4pt; \n",
       "        padding-bottom: 12pt;\n",
       "    }\n",
       "</style>"
      ],
      "text/plain": [
       "<IPython.core.display.HTML object>"
      ]
     },
     "execution_count": 1,
     "metadata": {},
     "output_type": "execute_result"
    }
   ],
   "source": [
    "from IPython.core.display import HTML\n",
    "def css_styling():\n",
    "    styles = open(\"../styles/exercises.css\", \"r\").read()\n",
    "    return HTML(styles)\n",
    "css_styling()"
   ]
  }
 ],
 "metadata": {
  "kernelspec": {
   "display_name": "Python 3",
   "language": "python",
   "name": "python3"
  },
  "language_info": {
   "codemirror_mode": {
    "name": "ipython",
    "version": 3
   },
   "file_extension": ".py",
   "mimetype": "text/x-python",
   "name": "python",
   "nbconvert_exporter": "python",
   "pygments_lexer": "ipython3",
   "version": "3.7.4"
  }
 },
 "nbformat": 4,
 "nbformat_minor": 4
}
